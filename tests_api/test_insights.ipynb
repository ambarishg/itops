{
 "cells": [
  {
   "cell_type": "code",
   "execution_count": 10,
   "metadata": {},
   "outputs": [],
   "source": [
    "import sys\n",
    "sys.path.append(\"../\")"
   ]
  },
  {
   "cell_type": "code",
   "execution_count": 11,
   "metadata": {},
   "outputs": [],
   "source": [
    "from fastapi.testclient import TestClient"
   ]
  },
  {
   "cell_type": "code",
   "execution_count": 12,
   "metadata": {},
   "outputs": [],
   "source": [
    "from app import *"
   ]
  },
  {
   "cell_type": "code",
   "execution_count": 13,
   "metadata": {},
   "outputs": [],
   "source": [
    "client = TestClient(app)\n",
    "COL_NAME = \"Solution\"\n",
    "RUN_NAME = 'OUTLOOK004'\n",
    "CLUSTER_NAME = 'Email and Outlook connectivity issues.'"
   ]
  },
  {
   "cell_type": "code",
   "execution_count": 14,
   "metadata": {},
   "outputs": [
    {
     "name": "stdout",
     "output_type": "stream",
     "text": [
      "SELECT             INSIGHTS_FILE_NAME             FROM cluster_data             WHERE RUN_NAME = ?             AND CLUSTER_NAME = ?\n",
      "Connected to database: itops.db\n",
      "Fetched 2 rows.\n",
      "Connection closed.\n",
      "ITSM_Data-RUN008-ITSM-OUTLOOK004.parquet\n"
     ]
    }
   ],
   "source": [
    "response = client.post(\"/get-insights-solutions\", json={\n",
    "        \"run_name\": RUN_NAME,\n",
    "        \"cluster_name\": CLUSTER_NAME,\n",
    "        \"description_column_name\": COL_NAME\n",
    "    })"
   ]
  },
  {
   "cell_type": "code",
   "execution_count": 15,
   "metadata": {},
   "outputs": [
    {
     "data": {
      "text/plain": [
       "<Response [200 OK]>"
      ]
     },
     "execution_count": 15,
     "metadata": {},
     "output_type": "execute_result"
    }
   ],
   "source": [
    "response"
   ]
  },
  {
   "cell_type": "code",
   "execution_count": 16,
   "metadata": {},
   "outputs": [
    {
     "name": "stdout",
     "output_type": "stream",
     "text": [
      " 1. Outlook reinstalled\n",
      "2. Software reinstalled\n",
      "3. Software updated, PC cleaned\n",
      "4. Attachment enabled\n",
      "5. Permission given\n"
     ]
    }
   ],
   "source": [
    "print(response.json()[\"solutions\"])"
   ]
  },
  {
   "cell_type": "code",
   "execution_count": null,
   "metadata": {},
   "outputs": [],
   "source": []
  }
 ],
 "metadata": {
  "kernelspec": {
   "display_name": ".venv",
   "language": "python",
   "name": "python3"
  },
  "language_info": {
   "codemirror_mode": {
    "name": "ipython",
    "version": 3
   },
   "file_extension": ".py",
   "mimetype": "text/x-python",
   "name": "python",
   "nbconvert_exporter": "python",
   "pygments_lexer": "ipython3",
   "version": "3.11.6"
  }
 },
 "nbformat": 4,
 "nbformat_minor": 2
}
