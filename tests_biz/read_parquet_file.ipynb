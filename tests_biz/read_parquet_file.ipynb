{
 "cells": [
  {
   "cell_type": "code",
   "execution_count": 1,
   "metadata": {},
   "outputs": [],
   "source": [
    "import sys\n",
    "sys.path.append(\"../\")"
   ]
  },
  {
   "cell_type": "code",
   "execution_count": 2,
   "metadata": {},
   "outputs": [],
   "source": [
    "FILENAME = 'ITSM_Data-RUN005-ITSM-PARQUET-MINI-EMBED.parquet'"
   ]
  },
  {
   "cell_type": "code",
   "execution_count": 3,
   "metadata": {},
   "outputs": [
    {
     "name": "stdout",
     "output_type": "stream",
     "text": [
      "True\n"
     ]
    }
   ],
   "source": [
    "from itops.storage.azure_blob.azure_blob_helper import AzureBlobHelper\n",
    "from itops.storage.azure_blob.parquet_helper import ParquetHelper\n",
    "from config.configs import CONFIGS"
   ]
  },
  {
   "cell_type": "code",
   "execution_count": 4,
   "metadata": {},
   "outputs": [],
   "source": [
    "blob_helper = AzureBlobHelper(account_name=  CONFIGS.AZURE_BLOB_STORAGE_ACCOUNT,\n",
    "                              container_name=CONFIGS.AZURE_BLOB_STORAGE_CONTAINER,\n",
    "                              account_key=CONFIGS.AZURE_BLOB_STORAGE_KEY)\n",
    "file_helper = ParquetHelper(azure_blob_helper=blob_helper)\n",
    "df = file_helper.read_file(FILENAME)"
   ]
  },
  {
   "cell_type": "code",
   "execution_count": 5,
   "metadata": {},
   "outputs": [
    {
     "data": {
      "text/plain": [
       "array([4, 0, 3, 1, 2], dtype=int32)"
      ]
     },
     "execution_count": 5,
     "metadata": {},
     "output_type": "execute_result"
    }
   ],
   "source": [
    "df[\"CLUSTERS\"].unique()"
   ]
  },
  {
   "cell_type": "code",
   "execution_count": 6,
   "metadata": {},
   "outputs": [
    {
     "data": {
      "text/plain": [
       "CLUSTER_NAMES\n",
       "Technical support and equipment requests.         47\n",
       "Asana and CRM installation issues.                26\n",
       "Outlook email issues and errors.                  24\n",
       "Discord installation and functionality issues.    21\n",
       "Name: count, dtype: int64"
      ]
     },
     "execution_count": 6,
     "metadata": {},
     "output_type": "execute_result"
    }
   ],
   "source": [
    "df[\"CLUSTER_NAMES\"].value_counts()"
   ]
  },
  {
   "cell_type": "code",
   "execution_count": 7,
   "metadata": {},
   "outputs": [
    {
     "data": {
      "text/plain": [
       "CLUSTERS  CLUSTER_NAMES                                 \n",
       "0         Technical support and equipment requests.         22\n",
       "1         Asana and CRM installation issues.                25\n",
       "2         Outlook email issues and errors.                  24\n",
       "3         Technical support and equipment requests.         23\n",
       "4         Discord installation and functionality issues.    21\n",
       "Name: Category, dtype: int64"
      ]
     },
     "execution_count": 7,
     "metadata": {},
     "output_type": "execute_result"
    }
   ],
   "source": [
    "column_names = [\"CLUSTERS\",\"CLUSTER_NAMES\"]\n",
    "df.groupby(by=column_names)[\"Category\"].count()"
   ]
  },
  {
   "cell_type": "code",
   "execution_count": null,
   "metadata": {},
   "outputs": [],
   "source": []
  }
 ],
 "metadata": {
  "kernelspec": {
   "display_name": ".venv",
   "language": "python",
   "name": "python3"
  },
  "language_info": {
   "codemirror_mode": {
    "name": "ipython",
    "version": 3
   },
   "file_extension": ".py",
   "mimetype": "text/x-python",
   "name": "python",
   "nbconvert_exporter": "python",
   "pygments_lexer": "ipython3",
   "version": "3.11.6"
  }
 },
 "nbformat": 4,
 "nbformat_minor": 2
}
