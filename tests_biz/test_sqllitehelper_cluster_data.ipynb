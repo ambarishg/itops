{
 "cells": [
  {
   "cell_type": "code",
   "execution_count": 10,
   "execution_count": 1,
   "metadata": {},
   "outputs": [],
   "source": [
    "import sys\n",
    "sys.path.append(\"../\")\n",
    "\n",
    "from itops.db.sqlite.sqlitehelper import SQLiteDatabaseHelper\n",
    "from config.configs import CONFIGS\n",
    "import uuid"
   ]
  },
  {
   "cell_type": "code",
   "execution_count": 11,
   "metadata": {},
   "outputs": [],
   "source": [
    "db_helper = SQLiteDatabaseHelper(\"itops.db\")"
   ]
  },
  {
   "cell_type": "code",
   "execution_count": 12,
   "metadata": {},
   "outputs": [
    {
     "name": "stdout",
     "output_type": "stream",
     "text": [
      "Connected to database: itops.db\n",
      "Query executed successfully.\n",
      "Query executed successfully.\n",
      "Query executed successfully.\n"
     ]
    }
   ],
   "source": [
    "db_helper.connect()\n",
    "\n",
    "db_helper.execute_query(\"\"\"\n",
    "                        DROP TABLE cluster_data \"\"\")\n",
    "db_helper.execute_query(\"\"\"\n",
    "                        DROP TABLE cluster_data \"\"\")\n",
    "        \n",
    "# Create a table\n",
    "db_helper.execute_query(\"\"\"\n",
    "CREATE TABLE IF NOT EXISTS cluster_data (\n",
    "                    RUN_ID VARCHAR(500),\n",
    "                    RUN_NAME VARCHAR(500), \n",
    "                    CATEGORY VARCHAR(500), \n",
    "                    INPUT_FILE_NAME VARCHAR(500), \n",
    "                    INSIGHTS_FILE_NAME VARCHAR(500),\n",
    "                    CLUSTER_ID VARCHAR(500), \n",
    "                    CLUSTER_NAME VARCHAR(500), \n",
    "                    PARENT_CLUSTER_ID VARCHAR(500), \n",
    "                    PARENT_CLUSTER_NAME VARCHAR(500)\n",
    "                    )\n",
    "\"\"\")"
   ]
  },
  {
   "cell_type": "code",
   "execution_count": 13,
   "metadata": {},
   "outputs": [
    {
     "name": "stdout",
     "output_type": "stream",
     "text": [
      "Connection closed.\n"
     ]
    }
   ],
   "source": [
    "db_helper.close_connection()"
   ]
  },
  {
   "cell_type": "code",
   "execution_count": 14,
   "metadata": {},
   "outputs": [
    {
     "name": "stdout",
     "output_type": "stream",
     "text": [
      "Connected to database: itops.db\n",
      "Fetched 0 rows.\n",
      "Connection closed.\n"
     ]
    }
   ],
   "source": [
    "db_helper.connect()\n",
    "records = db_helper.fetch_all(\"SELECT * FROM cluster_data\")\n",
    "db_helper.close_connection()"
   ]
  },
  {
   "cell_type": "code",
   "execution_count": 15,
   "metadata": {},
   "outputs": [],
   "source": [
    "for record in records:\n",
    "    print(record)"
   ]
  },
  {
   "cell_type": "code",
   "execution_count": 16,
   "metadata": {},
   "outputs": [
    {
     "data": {
      "text/plain": [
       "[]"
      ]
     },
     "execution_count": 16,
     "metadata": {},
     "output_type": "execute_result"
    }
   ],
   "source": [
    "records"
   ]
  },
  {
   "cell_type": "code",
   "execution_count": 17,
   "metadata": {},
   "outputs": [],
   "source": [
    "def query_helper(query,db_type = \"DUCKDB\"):\n",
    "\n",
    "        if db_type == \"DUCKDB\":\n",
    "            query = query.replace('%s', '?')\n",
    "        \n",
    "        return(query)"
   ]
  },
  {
   "cell_type": "code",
   "execution_count": 20,
   "metadata": {},
   "outputs": [],
   "source": [
    "def insert_cluster_data(run_name, category, input_file_name, insights_file_name, cluster_name, parent_cluster_name):\n",
    "        # Establish a connection to the database\n",
    "        db_helper.connect()\n",
    "        print(\"CONNECTED to the database\")\n",
    "\n",
    "        # Define the insert query\n",
    "        insert_query = \"\"\"\n",
    "        INSERT INTO cluster_data (RUN_ID,RUN_NAME, \n",
    "                                CATEGORY, \n",
    "                                INPUT_FILE_NAME, \n",
    "                                INSIGHTS_FILE_NAME, \n",
    "                                CLUSTER_ID,\n",
    "                                CLUSTER_NAME, \n",
    "                                PARENT_CLUSTER_ID,\n",
    "                                PARENT_CLUSTER_NAME)\n",
    "        VALUES (%s, %s, %s, %s, %s, %s,%s, %s, %s)\n",
    "        \"\"\"\n",
    "\n",
    "        insert_query = query_helper(insert_query)\n",
    "        print(insert_query)\n",
    "\n",
    "        RUN_ID =  str(uuid.uuid4())\n",
    "        CLUSTER_ID =  str(uuid.uuid4())\n",
    "        PARENT_CLUSTER_ID =  str(uuid.uuid4())\n",
    "        \n",
    "        # Prepare the data tuple\n",
    "        data = (RUN_ID,run_name, \n",
    "                category, input_file_name, \n",
    "                insights_file_name, \n",
    "                CLUSTER_ID,cluster_name, \n",
    "                PARENT_CLUSTER_ID,parent_cluster_name)\n",
    "\n",
    "        try:\n",
    "            # Execute the insert query with the provided data\n",
    "            db_helper.execute_query(insert_query, data)\n",
    "            print(\"Data inserted successfully.\")\n",
    "        except Exception as e:\n",
    "            print(f\"An error occurred: {e}\")\n",
    "        finally:\n",
    "            # Ensure the database connection is closed\n",
    "            db_helper.close_connection()"
   ]
  },
  {
   "cell_type": "code",
   "execution_count": 21,
   "metadata": {},
   "outputs": [
    {
     "name": "stdout",
     "output_type": "stream",
     "text": [
      "Connected to database: itops.db\n",
      "CONNECTED to the database\n",
      "\n",
      "        INSERT INTO cluster_data (RUN_ID,RUN_NAME, \n",
      "                                CATEGORY, \n",
      "                                INPUT_FILE_NAME, \n",
      "                                INSIGHTS_FILE_NAME, \n",
      "                                CLUSTER_ID,\n",
      "                                CLUSTER_NAME, \n",
      "                                PARENT_CLUSTER_ID,\n",
      "                                PARENT_CLUSTER_NAME)\n",
      "        VALUES (?, ?, ?, ?, ?, ?,?, ?, ?)\n",
      "        \n",
      "Query executed successfully.\n",
      "Data inserted successfully.\n",
      "Connection closed.\n"
     ]
    }
   ],
   "source": [
    "insert_cluster_data(run_name =\"RUN001\", \n",
    "                    category = \"CATEGORY001\", \n",
    "                    input_file_name = \"FILE001.TXT\", \n",
    "                    insights_file_name = \"INSIGHTS.TXT\", \n",
    "                    cluster_name = \"CLUSTER001\", \n",
    "                    parent_cluster_name = \"PARENTCLUSTER001\")"
   ]
  },
  {
   "cell_type": "code",
   "execution_count": 22,
   "metadata": {},
   "outputs": [
    {
     "name": "stdout",
     "output_type": "stream",
     "text": [
      "Connected to database: itops.db\n",
      "Fetched 1 rows.\n",
      "Connection closed.\n"
     ]
    }
   ],
   "source": [
    "db_helper.connect()\n",
    "records = db_helper.fetch_all(\"SELECT * FROM cluster_data\")\n",
    "db_helper.close_connection()"
   ]
  },
  {
   "cell_type": "code",
   "execution_count": 23,
   "metadata": {},
   "outputs": [
    {
     "data": {
      "text/plain": [
       "[('dee527b7-402e-4af9-bc38-9c1be62f9f64',\n",
       "  'RUN001',\n",
       "  'CATEGORY001',\n",
       "  'FILE001.TXT',\n",
       "  'INSIGHTS.TXT',\n",
       "  '6c6ad4ca-ec91-42c9-957d-45280e1edf63',\n",
       "  'CLUSTER001',\n",
       "  'ef7c4d5c-accb-4274-a421-879349d1c995',\n",
       "  'PARENTCLUSTER001')]"
      ]
     },
     "execution_count": 23,
     "metadata": {},
     "output_type": "execute_result"
    }
   ],
   "source": [
    "records"
   ]
  },
  {
   "cell_type": "code",
   "execution_count": null,
   "metadata": {},
   "outputs": [],
   "source": []
  }
 ],
 "metadata": {
  "kernelspec": {
   "display_name": ".venv",
   "language": "python",
   "name": "python3"
  },
  "language_info": {
   "codemirror_mode": {
    "name": "ipython",
    "version": 3
   },
   "file_extension": ".py",
   "mimetype": "text/x-python",
   "name": "python",
   "nbconvert_exporter": "python",
   "pygments_lexer": "ipython3",
   "version": "3.11.6"
  }
 },
 "nbformat": 4,
 "nbformat_minor": 2
}
