{
 "cells": [
  {
   "cell_type": "code",
   "execution_count": 1,
   "metadata": {},
   "outputs": [],
   "source": [
    "import sys\n",
    "sys.path.append(\"../\")"
   ]
  },
  {
   "cell_type": "code",
   "execution_count": 2,
   "metadata": {},
   "outputs": [
    {
     "name": "stderr",
     "output_type": "stream",
     "text": [
      "c:\\Ambarish\\itops\\.venv\\Lib\\site-packages\\sentence_transformers\\cross_encoder\\CrossEncoder.py:13: TqdmWarning: IProgress not found. Please update jupyter and ipywidgets. See https://ipywidgets.readthedocs.io/en/stable/user_install.html\n",
      "  from tqdm.autonotebook import tqdm, trange\n"
     ]
    },
    {
     "name": "stdout",
     "output_type": "stream",
     "text": [
      "True\n"
     ]
    }
   ],
   "source": [
    "from biz.manager.BizRunManager import BizRunManager"
   ]
  },
  {
   "cell_type": "code",
   "execution_count": 3,
   "metadata": {},
   "outputs": [],
   "source": [
    "description_column_name = \"Text\"\n",
    "MODEL_NAME = \"all-MiniLM-L6-v2\"\n",
    "CATEGORY = \"ITSM\"\n",
    "PARENT_CLUSTER_NAME = 'Outlook email issues and errors.' \n",
    "PARENT_RUN_NAME = \"RUN008\"\n",
    "NUM_CLUSTERS =5\n",
    "RUN_NAME = 'OUTLOOK005'"
   ]
  },
  {
   "cell_type": "code",
   "execution_count": 4,
   "metadata": {},
   "outputs": [],
   "source": [
    "bizrunmanager = BizRunManager(description_column_name,\n",
    "                              embedding_model_name =MODEL_NAME)"
   ]
  },
  {
   "cell_type": "code",
   "execution_count": 5,
   "metadata": {},
   "outputs": [
    {
     "name": "stdout",
     "output_type": "stream",
     "text": [
      "SELECT INSIGHTS_FILE_NAME,CONTAINER_NAME,ACCOUNT_NAME FROM run_log WHERE CATEGORY = ?             AND RUN_NAME = ? \n",
      "Connected to database: itops.db\n",
      "Fetched 1 rows.\n",
      "Connection closed.\n",
      "[('ITSM_Data-RUN008-ITSM.parquet', 'itops', 'stgtxtsql')]\n",
      "Completed CLUSTERING PART 1 1 ROW\n",
      "Completed CLUSTERING PART 1 2 ROW\n",
      "Completed CLUSTERING PART 1 3 ROW\n",
      "Completed CLUSTERING PART 1 4 ROW\n",
      "Completed CLUSTERING PART 1 5 ROW\n",
      "Completed CLUSTERING FINAL\n",
      "    ID_request                                               Text  \\\n",
      "0         1981  Microsoft Outlook doesn't work. I can't send o...   \n",
      "1         3864  I need to be able to send messages from outloo...   \n",
      "2         3717   My mail stopped to work after I updated Windows.   \n",
      "3         4770  Signature on my mail disapeared after I update...   \n",
      "4         1696  I get this outlook error> https://www.shoviv.c...   \n",
      "5         1542  <p>Attachment I got is blocked due to e-mail p...   \n",
      "6         4838  <p>Please unblock the attachment on my email I...   \n",
      "7         3982  Outlook is stopping to work each now and then....   \n",
      "8         4785  <p> I have serious problems with my email on m...   \n",
      "9         4515  <p> I would like to use Gmail instead of Outlo...   \n",
      "10        2779  Outlook funktioniert nach Update nicht. Hilfe ...   \n",
      "11        4391  I face this outlook issue: https://support.mic...   \n",
      "12        2255           Please install outlook on my new laptop.   \n",
      "13        2260  <p>I'm &nbsp;no longer receiving emails from t...   \n",
      "14        4633  <p>Gebündelte Probleme mit Office seit Neustar...   \n",
      "15        3388  <p>outlook issue , I did an update Windows and...   \n",
      "16        2498  <p>outlook is not updating inbox, I can't reci...   \n",
      "17        4351  <p>When I open Outlook, it seems to open norma...   \n",
      "18        1789  <p>Ich kann nicht auf Outlook zugreifen. Es ze...   \n",
      "19        3798  Keiner meiner Internet Browser funktioniert, a...   \n",
      "20        4986  Mein Outlook-Posteingang ist voll. Bitte stell...   \n",
      "21        3039  My mail (Outlook) on mobilephone isn't working...   \n",
      "22        4062  <p>Bundled problems with Office since restart:...   \n",
      "\n",
      "            Category                                  Solution  \\\n",
      "0            Outlook                       Outlook reinstalled   \n",
      "1            Outlook                      Software reinstalled   \n",
      "2            Outlook             Software updated, PC cleaned.   \n",
      "3            Outlook  Problem fixed by connection to users PC.   \n",
      "4            Outlook  Problem fixed by connection to users PC.   \n",
      "5            Outlook                        Attachment enabled   \n",
      "6            Outlook                        Attachment enabled   \n",
      "7            Outlook             Software updated, PC cleaned.   \n",
      "8            Outlook                       Outlook reinstalled   \n",
      "9            Outlook                           Request refused   \n",
      "10           Outlook                       Outlook reinstalled   \n",
      "11           Outlook                       Outlook reinstalled   \n",
      "12           Outlook                        Software installed   \n",
      "13              Mail                       Outlook reinstalled   \n",
      "14              Mail                       Outlook reinstalled   \n",
      "15              Mail             Software updated, PC cleaned.   \n",
      "16              Mail             Software updated, PC cleaned.   \n",
      "17              Mail                       Outlook reinstalled   \n",
      "18              Mail                       Outlook reinstalled   \n",
      "19  Internet Browser             Software updated, PC cleaned.   \n",
      "20           Outlook                          Premission given   \n",
      "21           Outlook                      Software reinstalled   \n",
      "22       Help Needed                       Outlook reinstalled   \n",
      "\n",
      "   Date_request_recieved Date_request_solved  ID_agent  \\\n",
      "0             03-10-2022          03-10-2022         1   \n",
      "1             28-10-2022          28-10-2022         1   \n",
      "2             24-10-2022          24-10-2022         3   \n",
      "3             17-10-2022          17-10-2022         1   \n",
      "4             26-10-2022          26-10-2022         2   \n",
      "5             12-10-2022          12-10-2022         2   \n",
      "6             20-10-2022          20-10-2022         3   \n",
      "7             26-10-2022          26-10-2022         2   \n",
      "8             18-10-2022          18-10-2022         1   \n",
      "9             03-10-2022          03-10-2022         3   \n",
      "10            24-10-2022          24-10-2022         3   \n",
      "11            10-10-2022          10-10-2022         1   \n",
      "12            17-10-2022          18-10-2022         1   \n",
      "13            04-10-2022          04-10-2022         1   \n",
      "14            19-10-2022          19-10-2022         3   \n",
      "15            18-10-2022          18-10-2022         2   \n",
      "16            17-10-2022          17-10-2022         2   \n",
      "17            18-10-2022          18-10-2022         2   \n",
      "18            05-10-2022          05-10-2022         2   \n",
      "19            25-10-2022          25-10-2022         2   \n",
      "20            27-10-2022          27-10-2022         1   \n",
      "21            24-10-2022          24-10-2022         1   \n",
      "22            24-10-2022          24-10-2022         1   \n",
      "\n",
      "                                          themes  \\\n",
      "0                Microsoft Outlook email issues.   \n",
      "1          Urgent Outlook message communication.   \n",
      "2              Mail issues after Windows update.   \n",
      "3        Outlook signature missing after update.   \n",
      "4    Outlook connection and installation issues.   \n",
      "5                 Email attachment access issue.   \n",
      "6           Email attachment unblocking request.   \n",
      "7        Outlook application malfunction issues.   \n",
      "8                  Email issues on mobile phone.   \n",
      "9           Gmail vs. Outlook preference inquiry   \n",
      "10                  Outlook issues after update.   \n",
      "11        Outlook startup and connection issues.   \n",
      "12               Installing Outlook on a laptop.   \n",
      "13               Missing emails in Outlook issue   \n",
      "14         Office connectivity issues and errors   \n",
      "15            Outlook issue after Windows update   \n",
      "16          Outlook inbox not updating messages.   \n",
      "17      Outlook closing unexpectedly on startup.   \n",
      "18  Outlook offline despite internet connection.   \n",
      "19   Browser issues despite internet connection.   \n",
      "20                  Outlook inbox storage issue.   \n",
      "21                     Outlook mobile app issue.   \n",
      "22         Office connectivity and email issues.   \n",
      "\n",
      "                                           embeddings  CLUSTERS  \\\n",
      "0   [-0.01289685, 0.016042348, 0.04045747, 0.08747...         4   \n",
      "1   [-0.03611796, 0.01233739, 0.01814003, 0.056468...         4   \n",
      "2   [-0.015776549, -0.008799157, 0.060785726, 0.03...         4   \n",
      "3   [-0.027267795, 0.0073056207, 0.029983664, 0.00...         4   \n",
      "4   [0.023804868, -0.007739051, 0.07659308, 0.0323...         0   \n",
      "5   [0.05301689, 0.0440094, 0.0007971434, 0.005128...         3   \n",
      "6   [-0.06438204, 0.0083099045, 0.0061432645, -0.0...         3   \n",
      "7   [-0.008599866, 0.005473262, 0.027208453, 0.050...         4   \n",
      "8   [-0.048245516, 0.039244536, 0.13003086, -0.007...         3   \n",
      "9   [-0.0622673, 0.015105367, 0.07678988, 0.062714...         4   \n",
      "10  [-0.024912916, -0.011483851, 0.02167481, 0.108...         4   \n",
      "11  [-0.023295967, -0.012661039, 0.02892626, 0.055...         4   \n",
      "12  [-0.023958081, 0.010365344, 0.024000853, 0.000...         0   \n",
      "13  [0.0105829155, -0.009833783, 0.044827648, 0.12...         1   \n",
      "14  [-0.009063108, -0.015532527, 0.060916997, 0.00...         3   \n",
      "15  [-0.029358577, 0.033767167, 0.020396624, 0.085...         4   \n",
      "16  [0.080337465, -0.050307643, 0.026846403, 0.082...         2   \n",
      "17  [-0.021034285, -0.039441034, 0.013702282, 0.07...         4   \n",
      "18  [-0.0026065507, 0.019561585, 0.044093385, 0.04...         3   \n",
      "19  [0.0077005206, -0.014893721, 0.06769403, -0.01...         3   \n",
      "20  [0.03186345, 0.027986318, -0.019063625, 0.1296...         2   \n",
      "21  [-0.058412865, 0.06706679, 0.052586153, 0.0235...         4   \n",
      "22  [-0.0111182155, -0.024260262, 0.109129146, -0....         3   \n",
      "\n",
      "                                  CLUSTER_NAMES  \n",
      "0                 Outlook issues after updates.  \n",
      "1                 Outlook issues after updates.  \n",
      "2                 Outlook issues after updates.  \n",
      "3                 Outlook issues after updates.  \n",
      "4   Outlook installation and connection issues.  \n",
      "5         Email and Office connectivity issues.  \n",
      "6         Email and Office connectivity issues.  \n",
      "7                 Outlook issues after updates.  \n",
      "8         Email and Office connectivity issues.  \n",
      "9                 Outlook issues after updates.  \n",
      "10                Outlook issues after updates.  \n",
      "11                Outlook issues after updates.  \n",
      "12  Outlook installation and connection issues.  \n",
      "13         Missing emails from specific address  \n",
      "14        Email and Office connectivity issues.  \n",
      "15                Outlook issues after updates.  \n",
      "16            Outlook inbox issues and storage.  \n",
      "17                Outlook issues after updates.  \n",
      "18        Email and Office connectivity issues.  \n",
      "19        Email and Office connectivity issues.  \n",
      "20            Outlook inbox issues and storage.  \n",
      "21                Outlook issues after updates.  \n",
      "22        Email and Office connectivity issues.  \n",
      "Connected to database: itops.db\n",
      "Query executed successfully.\n",
      "Connection closed.\n",
      "Connected to database: itops.db\n",
      "CONNECTED to the database\n",
      "Query executed successfully.\n",
      "Data inserted successfully.\n",
      "Connection closed.\n",
      "Connected to database: itops.db\n",
      "CONNECTED to the database\n",
      "Query executed successfully.\n",
      "Data inserted successfully.\n",
      "Connection closed.\n",
      "Connected to database: itops.db\n",
      "CONNECTED to the database\n",
      "Query executed successfully.\n",
      "Data inserted successfully.\n",
      "Connection closed.\n",
      "Connected to database: itops.db\n",
      "CONNECTED to the database\n",
      "Query executed successfully.\n",
      "Data inserted successfully.\n",
      "Connection closed.\n",
      "Connected to database: itops.db\n",
      "CONNECTED to the database\n",
      "Query executed successfully.\n",
      "Data inserted successfully.\n",
      "Connection closed.\n"
     ]
    }
   ],
   "source": [
    "bizrunmanager.rerun_sub_cluster(RUN_NAME,CATEGORY,NUM_CLUSTERS,\n",
    "                                PARENT_CLUSTER_NAME,PARENT_RUN_NAME)"
   ]
  },
  {
   "cell_type": "code",
   "execution_count": 6,
   "metadata": {},
   "outputs": [
    {
     "name": "stdout",
     "output_type": "stream",
     "text": [
      "SELECT             INSIGHTS_FILE_NAME             FROM cluster_data             WHERE RUN_NAME = ?\n",
      "Connected to database: itops.db\n",
      "Fetched 5 rows.\n",
      "Connection closed.\n",
      "ITSM_Data-RUN008-ITSM-OUTLOOK005.parquet\n"
     ]
    }
   ],
   "source": [
    "df= bizrunmanager.insights_manager.get_input_filename(RUN_NAME)"
   ]
  },
  {
   "cell_type": "code",
   "execution_count": 7,
   "metadata": {},
   "outputs": [
    {
     "data": {
      "text/plain": [
       "CLUSTER_NAMES\n",
       "Outlook issues after updates.                  11\n",
       "Email and Office connectivity issues.           7\n",
       "Outlook installation and connection issues.     2\n",
       "Outlook inbox issues and storage.               2\n",
       "Missing emails from specific address            1\n",
       "Name: count, dtype: int64"
      ]
     },
     "execution_count": 7,
     "metadata": {},
     "output_type": "execute_result"
    }
   ],
   "source": [
    "df[\"CLUSTER_NAMES\"].value_counts()"
   ]
  },
  {
   "cell_type": "code",
   "execution_count": 8,
   "metadata": {},
   "outputs": [],
   "source": [
    "df[\"CLUSTER_NAMES\"].value_counts().to_csv(\"ITSM-OUTLOOK.csv\")"
   ]
  },
  {
   "cell_type": "code",
   "execution_count": null,
   "metadata": {},
   "outputs": [],
   "source": []
  }
 ],
 "metadata": {
  "kernelspec": {
   "display_name": ".venv",
   "language": "python",
   "name": "python3"
  },
  "language_info": {
   "codemirror_mode": {
    "name": "ipython",
    "version": 3
   },
   "file_extension": ".py",
   "mimetype": "text/x-python",
   "name": "python",
   "nbconvert_exporter": "python",
   "pygments_lexer": "ipython3",
   "version": "3.11.6"
  }
 },
 "nbformat": 4,
 "nbformat_minor": 2
}
