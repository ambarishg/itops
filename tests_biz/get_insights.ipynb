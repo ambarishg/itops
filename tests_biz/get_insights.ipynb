{
 "cells": [
  {
   "cell_type": "code",
   "execution_count": 3,
   "metadata": {},
   "outputs": [],
   "source": [
    "import sys\n",
    "sys.path.append(\"../\")\n",
    "from pprint import pprint"
   ]
  },
  {
   "cell_type": "code",
   "execution_count": 4,
   "metadata": {},
   "outputs": [
    {
     "name": "stderr",
     "output_type": "stream",
     "text": [
      "c:\\Ambarish\\itops\\.venv\\Lib\\site-packages\\sentence_transformers\\cross_encoder\\CrossEncoder.py:13: TqdmWarning: IProgress not found. Please update jupyter and ipywidgets. See https://ipywidgets.readthedocs.io/en/stable/user_install.html\n",
      "  from tqdm.autonotebook import tqdm, trange\n"
     ]
    },
    {
     "name": "stdout",
     "output_type": "stream",
     "text": [
      "True\n"
     ]
    }
   ],
   "source": [
    "from biz.manager.BizRunManager import BizRunManager"
   ]
  },
  {
   "cell_type": "code",
   "execution_count": 5,
   "metadata": {},
   "outputs": [],
   "source": [
    "description_column_name = \"Text\"\n",
    "MODEL_NAME = \"all-MiniLM-L6-v2\"\n",
    "\n",
    "RUN_NAME = 'OUTLOOK004'\n",
    "CLUSTER_NAME = 'Email and Outlook connectivity issues.'"
   ]
  },
  {
   "cell_type": "code",
   "execution_count": 6,
   "metadata": {},
   "outputs": [],
   "source": [
    "bizRunManager = BizRunManager(description_column_name,\n",
    "                              embedding_model_name =MODEL_NAME)"
   ]
  },
  {
   "cell_type": "code",
   "execution_count": 7,
   "metadata": {},
   "outputs": [
    {
     "name": "stdout",
     "output_type": "stream",
     "text": [
      "SELECT             INSIGHTS_FILE_NAME             FROM cluster_data             WHERE RUN_NAME = ?             AND CLUSTER_NAME = ?\n",
      "Connected to database: itops.db\n",
      "Fetched 1 rows.\n",
      "Connection closed.\n",
      "ITSM_Data-RUN008-ITSM-OUTLOOK004.parquet\n"
     ]
    }
   ],
   "source": [
    "COL_NAME = \"Solution\"\n",
    "solutions = bizRunManager.get_insights_solutions(RUN_NAME,\n",
    "                                                 CLUSTER_NAME,\n",
    "                                                 COL_NAME)"
   ]
  },
  {
   "cell_type": "code",
   "execution_count": 8,
   "metadata": {},
   "outputs": [
    {
     "name": "stdout",
     "output_type": "stream",
     "text": [
      "(' 1. Outlook reinstalled\\n'\n",
      " '2. Software reinstalled\\n'\n",
      " '3. Software updated, PC cleaned\\n'\n",
      " '4. Attachment enabled\\n'\n",
      " '5. Permission given')\n"
     ]
    }
   ],
   "source": [
    "pprint(solutions)"
   ]
  },
  {
   "cell_type": "code",
   "execution_count": 9,
   "metadata": {},
   "outputs": [
    {
     "name": "stdout",
     "output_type": "stream",
     "text": [
      "SELECT             INSIGHTS_FILE_NAME             FROM cluster_data             WHERE RUN_NAME = ?             AND CLUSTER_NAME = ?\n",
      "Connected to database: itops.db\n",
      "Fetched 1 rows.\n",
      "Connection closed.\n",
      "ITSM_Data-RUN008-ITSM-OUTLOOK004.parquet\n",
      "(' 1. **Inability to Send or Receive Emails**: Multiple users report issues '\n",
      " 'with sending and receiving emails, often after updates to Windows or '\n",
      " 'Outlook.\\n'\n",
      " '\\n'\n",
      " '2. **Outlook Crashing or Closing Unexpectedly**: Users experience Outlook '\n",
      " 'opening normally but then closing on its own shortly after.\\n'\n",
      " '\\n'\n",
      " '3. **Missing Email Signatures**: After updating Outlook, users find that '\n",
      " 'their email signatures have disappeared and need assistance in restoring '\n",
      " 'them.\\n'\n",
      " '\\n'\n",
      " '4. **Mobile Email Issues**: Users face problems with their Outlook email on '\n",
      " 'mobile devices, including delays in receiving emails and difficulties '\n",
      " 'opening attachments.\\n'\n",
      " '\\n'\n",
      " '5. **Connection Errors**: Users encounter specific error messages (e.g., '\n",
      " 'error 0x8004deb0) when trying to connect to Outlook, indicating issues with '\n",
      " 'connectivity or server access.')\n"
     ]
    }
   ],
   "source": [
    "COL_NAME = \"Text\"\n",
    "challenges = bizRunManager.get_insights_challenges(RUN_NAME,\n",
    "                                                 CLUSTER_NAME,\n",
    "                                                 COL_NAME)\n",
    "pprint(challenges)"
   ]
  },
  {
   "cell_type": "code",
   "execution_count": null,
   "metadata": {},
   "outputs": [],
   "source": []
  }
 ],
 "metadata": {
  "kernelspec": {
   "display_name": ".venv",
   "language": "python",
   "name": "python3"
  },
  "language_info": {
   "codemirror_mode": {
    "name": "ipython",
    "version": 3
   },
   "file_extension": ".py",
   "mimetype": "text/x-python",
   "name": "python",
   "nbconvert_exporter": "python",
   "pygments_lexer": "ipython3",
   "version": "3.11.6"
  }
 },
 "nbformat": 4,
 "nbformat_minor": 2
}
