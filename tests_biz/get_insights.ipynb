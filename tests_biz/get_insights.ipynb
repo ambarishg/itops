{
 "cells": [
  {
   "cell_type": "code",
   "execution_count": 1,
   "metadata": {},
   "outputs": [],
   "source": [
    "import sys\n",
    "sys.path.append(\"../\")\n",
    "from pprint import pprint"
   ]
  },
  {
   "cell_type": "code",
   "execution_count": 2,
   "metadata": {},
   "outputs": [
    {
     "name": "stderr",
     "output_type": "stream",
     "text": [
      "c:\\Ambarish\\itops\\.venv\\Lib\\site-packages\\sentence_transformers\\cross_encoder\\CrossEncoder.py:13: TqdmWarning: IProgress not found. Please update jupyter and ipywidgets. See https://ipywidgets.readthedocs.io/en/stable/user_install.html\n",
      "  from tqdm.autonotebook import tqdm, trange\n"
     ]
    },
    {
     "name": "stdout",
     "output_type": "stream",
     "text": [
      "True\n"
     ]
    }
   ],
   "source": [
    "from biz.manager.BizRunManager import BizRunManager"
   ]
  },
  {
   "cell_type": "code",
   "execution_count": 3,
   "metadata": {},
   "outputs": [],
   "source": [
    "description_column_name = \"Text\"\n",
    "MODEL_NAME = \"all-MiniLM-L6-v2\"\n",
    "\n",
    "RUN_NAME = 'OUTLOOK004'\n",
    "CLUSTER_NAME = 'Email and Outlook connectivity issues.'"
   ]
  },
  {
   "cell_type": "code",
   "execution_count": 4,
   "metadata": {},
   "outputs": [],
   "source": [
    "bizRunManager = BizRunManager(description_column_name,\n",
    "                              embedding_model_name =MODEL_NAME)"
   ]
  },
  {
   "cell_type": "code",
   "execution_count": 5,
   "metadata": {},
   "outputs": [
    {
     "name": "stdout",
     "output_type": "stream",
     "text": [
      "SELECT             INSIGHTS_FILE_NAME             FROM cluster_data             WHERE RUN_NAME = ?             AND CLUSTER_NAME = ?\n",
      "Connected to database: itops.db\n",
      "Fetched 2 rows.\n",
      "Connection closed.\n",
      "ITSM_Data-RUN008-ITSM-OUTLOOK004.parquet\n"
     ]
    }
   ],
   "source": [
    "COL_NAME = \"Solution\"\n",
    "solutions = bizRunManager.get_insights_solutions(RUN_NAME,\n",
    "                                                 CLUSTER_NAME,\n",
    "                                                 COL_NAME)"
   ]
  },
  {
   "cell_type": "code",
   "execution_count": 6,
   "metadata": {},
   "outputs": [
    {
     "name": "stdout",
     "output_type": "stream",
     "text": [
      "(' 1. Software updated\\n'\n",
      " '2. PC cleaned\\n'\n",
      " '3. Outlook reinstalled (multiple times)\\n'\n",
      " '4. Outlook reinstalled (multiple times)\\n'\n",
      " '5. Outlook reinstalled (multiple times)')\n"
     ]
    }
   ],
   "source": [
    "pprint(solutions)"
   ]
  },
  {
   "cell_type": "code",
   "execution_count": 7,
   "metadata": {},
   "outputs": [
    {
     "name": "stdout",
     "output_type": "stream",
     "text": [
      "SELECT             INSIGHTS_FILE_NAME             FROM cluster_data             WHERE RUN_NAME = ?             AND CLUSTER_NAME = ?\n",
      "Connected to database: itops.db\n",
      "Fetched 2 rows.\n",
      "Connection closed.\n",
      "ITSM_Data-RUN008-ITSM-OUTLOOK004.parquet\n",
      "(' 1. Email stopped working after a Windows update.\\n'\n",
      " '2. Attachment is blocked due to email policy and needs to be unblocked.\\n'\n",
      " '3. Serious problems with email on mobile phone, including being rarely up to '\n",
      " 'date and inability to open attachments.\\n'\n",
      " '4. Outlook issue preventing access, with error messages and connection '\n",
      " 'problems (error 0x8004deb0).\\n'\n",
      " '5. Internet browsers are not functioning despite being connected to the '\n",
      " 'internet, affecting normal usage.')\n"
     ]
    }
   ],
   "source": [
    "COL_NAME = \"Text\"\n",
    "challenges = bizRunManager.get_insights_challenges(RUN_NAME,\n",
    "                                                 CLUSTER_NAME,\n",
    "                                                 COL_NAME)\n",
    "pprint(challenges)"
   ]
  },
  {
   "cell_type": "code",
   "execution_count": null,
   "metadata": {},
   "outputs": [],
   "source": []
  }
 ],
 "metadata": {
  "kernelspec": {
   "display_name": ".venv",
   "language": "python",
   "name": "python3"
  },
  "language_info": {
   "codemirror_mode": {
    "name": "ipython",
    "version": 3
   },
   "file_extension": ".py",
   "mimetype": "text/x-python",
   "name": "python",
   "nbconvert_exporter": "python",
   "pygments_lexer": "ipython3",
   "version": "3.11.6"
  }
 },
 "nbformat": 4,
 "nbformat_minor": 2
}
