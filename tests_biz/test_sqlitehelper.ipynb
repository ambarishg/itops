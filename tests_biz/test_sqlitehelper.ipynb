{
 "cells": [
  {
   "cell_type": "code",
   "execution_count": 1,
   "metadata": {},
   "outputs": [
    {
     "name": "stdout",
     "output_type": "stream",
     "text": [
      "True\n"
     ]
    }
   ],
   "source": [
    "import sys\n",
    "sys.path.append(\"../\")\n",
    "from itops.db.sqlite.sqlitehelper import SQLiteDatabaseHelper\n",
    "from config.configs import CONFIGS"
   ]
  },
  {
   "cell_type": "code",
   "execution_count": 2,
   "metadata": {},
   "outputs": [],
   "source": [
    "db_helper = SQLiteDatabaseHelper(\"itops.db\")"
   ]
  },
  {
   "cell_type": "code",
   "execution_count": 3,
   "metadata": {},
   "outputs": [
    {
     "name": "stdout",
     "output_type": "stream",
     "text": [
      "Connected to database: itops.db\n",
      "Query executed successfully.\n",
      "Query executed successfully.\n"
     ]
    }
   ],
   "source": [
    "db_helper.connect()\n",
    "\n",
    "db_helper.execute_query(\"\"\"\n",
    "                        DROP TABLE run_log \"\"\")\n",
    "        \n",
    "# Create a table\n",
    "db_helper.execute_query(\"\"\"\n",
    "CREATE TABLE IF NOT EXISTS run_log (\n",
    "    RUN_NAME VARCHAR(500), \n",
    "    NUMBER_OF_CLUSTERS INT, \n",
    "    PARENT_CLUSTER_NAME VARCHAR(500),\n",
    "    NUMBER_OF_SUBCLUSTERS INT, \n",
    "    CATEGORY VARCHAR(500), \n",
    "    INPUT_FILE_NAME VARCHAR(5000), \n",
    "    INSIGHTS_FILE_NAME VARCHAR(5000),\n",
    "    CONTAINER_NAME VARCHAR(5000),\n",
    "    ACCOUNT_NAME VARCHAR(5000),\n",
    "    PRIMARY KEY (RUN_NAME, CATEGORY)  -- Define composite primary key\n",
    ");\n",
    "\"\"\")"
   ]
  },
  {
   "cell_type": "code",
   "execution_count": 4,
   "metadata": {},
   "outputs": [],
   "source": [
    "insert_query = \"\"\"\n",
    "    INSERT INTO run_log (RUN_NAME, \n",
    "    NUMBER_OF_CLUSTERS, \n",
    "    PARENT_CLUSTER_NAME,\n",
    "    NUMBER_OF_SUBCLUSTERS,\n",
    "    CATEGORY, \n",
    "    INPUT_FILE_NAME, \n",
    "    INSIGHTS_FILE_NAME,\n",
    "    CONTAINER_NAME,\n",
    "    ACCOUNT_NAME)\n",
    "    VALUES (?, ?, ?, ?, ?, ?, ?,?, ?)\n",
    "    \"\"\""
   ]
  },
  {
   "cell_type": "code",
   "execution_count": 5,
   "metadata": {},
   "outputs": [],
   "source": [
    "NUMBER_OF_CLUSTERS = num_clusters = 10\n",
    "CATEGORY = category_name = \"CAT001\"\n",
    "INPUT_FILE_NAME = input_file_name =\"MYFILE.CSV\"\n",
    "INSIGHTS_FILE_NAME = file_name_insights = \"MYINSIGHTS.CSV\"\n",
    "SUB_CLUSTER_NAME =None\n",
    "PARENT_CLUSTER_NAME = None\n",
    "NUMBER_OF_SUBCLUSTERS = None\n",
    "run_name = \"RUN000001\""
   ]
  },
  {
   "cell_type": "code",
   "execution_count": 6,
   "metadata": {},
   "outputs": [
    {
     "name": "stdout",
     "output_type": "stream",
     "text": [
      "Query executed successfully.\n",
      "Connection closed.\n"
     ]
    }
   ],
   "source": [
    "data = (run_name, NUMBER_OF_CLUSTERS, PARENT_CLUSTER_NAME,\n",
    "                    NUMBER_OF_SUBCLUSTERS, CATEGORY, \n",
    "                    INPUT_FILE_NAME, INSIGHTS_FILE_NAME,\n",
    "                    CONFIGS.AZURE_BLOB_STORAGE_CONTAINER,\n",
    "                    CONFIGS.AZURE_BLOB_STORAGE_ACCOUNT)\n",
    "\n",
    "db_helper.execute_query(insert_query, data)\n",
    "db_helper.close_connection()"
   ]
  },
  {
   "cell_type": "code",
   "execution_count": 7,
   "metadata": {},
   "outputs": [
    {
     "name": "stdout",
     "output_type": "stream",
     "text": [
      "Connection closed.\n"
     ]
    }
   ],
   "source": [
    "db_helper.close_connection()"
   ]
  },
  {
   "cell_type": "code",
   "execution_count": 8,
   "metadata": {},
   "outputs": [
    {
     "name": "stdout",
     "output_type": "stream",
     "text": [
      "Connected to database: itops.db\n",
      "Fetched 1 rows.\n",
      "Connection closed.\n"
     ]
    }
   ],
   "source": [
    "db_helper.connect()\n",
    "records = db_helper.fetch_all(\"SELECT * FROM run_log\")\n",
    "db_helper.close_connection()"
   ]
  },
  {
   "cell_type": "code",
   "execution_count": 9,
   "metadata": {},
   "outputs": [
    {
     "name": "stdout",
     "output_type": "stream",
     "text": [
      "('RUN000001', 10, None, None, 'CAT001', 'MYFILE.CSV', 'MYINSIGHTS.CSV', 'itops', 'stgtxtsql')\n"
     ]
    }
   ],
   "source": [
    "for record in records:\n",
    "    print(record)"
   ]
  },
  {
   "cell_type": "code",
   "execution_count": 10,
   "metadata": {},
   "outputs": [
    {
     "name": "stdout",
     "output_type": "stream",
     "text": [
      "Connected to database: itops.db\n",
      "Fetched 1 rows.\n",
      "Connection closed.\n"
     ]
    }
   ],
   "source": [
    "db_helper.connect()\n",
    "records = db_helper.fetch_all(\"\"\"\n",
    "                              \n",
    "SELECT * FROM run_log \n",
    "                              \n",
    "                              \"\"\")\n",
    "db_helper.close_connection()"
   ]
  },
  {
   "cell_type": "code",
   "execution_count": 11,
   "metadata": {},
   "outputs": [
    {
     "name": "stdout",
     "output_type": "stream",
     "text": [
      "\n",
      "\n",
      "SELECT INSIGHTS_FILE_NAME,\n",
      "CONTAINER_NAME,ACCOUNT_NAME FROM run_log WHERE CATEGORY = ? \n",
      "\n",
      "\n",
      "Connected to database: itops.db\n",
      "Fetched 1 rows.\n",
      "Connection closed.\n"
     ]
    }
   ],
   "source": [
    "category_name = \"op\"\n",
    "category_name = CATEGORY\n",
    "select_query = \"\"\"\n",
    "\n",
    "SELECT INSIGHTS_FILE_NAME,\n",
    "CONTAINER_NAME,ACCOUNT_NAME FROM run_log WHERE CATEGORY = ? \n",
    "\n",
    "\"\"\"\n",
    "print(select_query)\n",
    "category_to_search = category_name\n",
    "\n",
    "db_helper.connect()\n",
    "records = db_helper.fetch_all(select_query,[category_to_search])\n",
    "db_helper.close_connection()"
   ]
  },
  {
   "cell_type": "code",
   "execution_count": 12,
   "metadata": {},
   "outputs": [
    {
     "data": {
      "text/plain": [
       "[('MYINSIGHTS.CSV', 'itops', 'stgtxtsql')]"
      ]
     },
     "execution_count": 12,
     "metadata": {},
     "output_type": "execute_result"
    }
   ],
   "source": [
    "records"
   ]
  },
  {
   "cell_type": "code",
   "execution_count": null,
   "metadata": {},
   "outputs": [],
   "source": []
  }
 ],
 "metadata": {
  "kernelspec": {
   "display_name": ".venv",
   "language": "python",
   "name": "python3"
  },
  "language_info": {
   "codemirror_mode": {
    "name": "ipython",
    "version": 3
   },
   "file_extension": ".py",
   "mimetype": "text/x-python",
   "name": "python",
   "nbconvert_exporter": "python",
   "pygments_lexer": "ipython3",
   "version": "3.11.6"
  }
 },
 "nbformat": 4,
 "nbformat_minor": 2
}
