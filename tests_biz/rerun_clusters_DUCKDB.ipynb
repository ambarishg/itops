{
 "cells": [
  {
   "cell_type": "code",
   "execution_count": 1,
   "metadata": {},
   "outputs": [],
   "source": [
    "import sys\n",
    "sys.path.append(\"../\")"
   ]
  },
  {
   "cell_type": "code",
   "execution_count": 2,
   "metadata": {},
   "outputs": [
    {
     "name": "stderr",
     "output_type": "stream",
     "text": [
      "c:\\Ambarish\\itops\\.venv\\Lib\\site-packages\\sentence_transformers\\cross_encoder\\CrossEncoder.py:13: TqdmWarning: IProgress not found. Please update jupyter and ipywidgets. See https://ipywidgets.readthedocs.io/en/stable/user_install.html\n",
      "  from tqdm.autonotebook import tqdm, trange\n"
     ]
    },
    {
     "name": "stdout",
     "output_type": "stream",
     "text": [
      "True\n"
     ]
    }
   ],
   "source": [
    "from biz.manager.BizRunManager import BizRunManager"
   ]
  },
  {
   "cell_type": "code",
   "execution_count": 3,
   "metadata": {},
   "outputs": [],
   "source": [
    "description_column_name = \"Text\"\n",
    "MODEL_NAME = \"all-MiniLM-L6-v2\"\n",
    "CATEGORY = \"ITSM\"\n",
    "run_name = \"RUN009-15NOV2024\"\n",
    "NUM_CLUSTERS =9"
   ]
  },
  {
   "cell_type": "code",
   "execution_count": 4,
   "metadata": {},
   "outputs": [],
   "source": [
    "bizrunmanager = BizRunManager(description_column_name,\n",
    "                              embedding_model_name =MODEL_NAME,\n",
    "                              db_type=\"DUCKDB\")"
   ]
  },
  {
   "cell_type": "code",
   "execution_count": 5,
   "metadata": {},
   "outputs": [
    {
     "name": "stdout",
     "output_type": "stream",
     "text": [
      "SELECT INSIGHTS_FILE_NAME,CONTAINER_NAME,ACCOUNT_NAME FROM run_log WHERE CATEGORY = ?             AND PARENT_CLUSTER_NAME IS NULL \n",
      "Connected to DuckDB database: itops.duckdb\n",
      "Fetched 1 rows.\n",
      "Connection closed.\n",
      "Completed CLUSTERING PART 1 1 ROW\n",
      "Completed CLUSTERING PART 1 2 ROW\n",
      "Completed CLUSTERING PART 1 3 ROW\n",
      "Completed CLUSTERING PART 1 4 ROW\n",
      "Completed CLUSTERING PART 1 5 ROW\n",
      "Completed CLUSTERING PART 1 6 ROW\n",
      "Completed CLUSTERING PART 1 7 ROW\n",
      "Completed CLUSTERING PART 1 8 ROW\n",
      "Completed CLUSTERING PART 1 9 ROW\n",
      "Completed CLUSTERING FINAL\n",
      "Connected to DuckDB database: itops.duckdb\n",
      "Query executed successfully.\n",
      "Connection closed.\n",
      "CLUSTER Names are ['Discord installation and functionality issues.'\n",
      " 'Installation assistance and support.'\n",
      " 'Technical support and software access.'\n",
      " 'Asana installation and update issues.'\n",
      " 'Outlook email issues and errors.'\n",
      " 'E-Mail-Probleme und technische Unterstützung'\n",
      " 'Device replacement and technical issues.'\n",
      " 'IT support and equipment requests'\n",
      " 'CRM installation and functionality issues.']\n",
      "Connected to DuckDB database: itops.duckdb\n",
      "CONNECTED to the database\n",
      "Query executed successfully.\n",
      "Data inserted successfully.\n",
      "Connection closed.\n",
      "Connected to DuckDB database: itops.duckdb\n",
      "CONNECTED to the database\n",
      "Query executed successfully.\n",
      "Data inserted successfully.\n",
      "Connection closed.\n",
      "Connected to DuckDB database: itops.duckdb\n",
      "CONNECTED to the database\n",
      "Query executed successfully.\n",
      "Data inserted successfully.\n",
      "Connection closed.\n",
      "Connected to DuckDB database: itops.duckdb\n",
      "CONNECTED to the database\n",
      "Query executed successfully.\n",
      "Data inserted successfully.\n",
      "Connection closed.\n",
      "Connected to DuckDB database: itops.duckdb\n",
      "CONNECTED to the database\n",
      "Query executed successfully.\n",
      "Data inserted successfully.\n",
      "Connection closed.\n",
      "Connected to DuckDB database: itops.duckdb\n",
      "CONNECTED to the database\n",
      "Query executed successfully.\n",
      "Data inserted successfully.\n",
      "Connection closed.\n",
      "Connected to DuckDB database: itops.duckdb\n",
      "CONNECTED to the database\n",
      "Query executed successfully.\n",
      "Data inserted successfully.\n",
      "Connection closed.\n",
      "Connected to DuckDB database: itops.duckdb\n",
      "CONNECTED to the database\n",
      "Query executed successfully.\n",
      "Data inserted successfully.\n",
      "Connection closed.\n",
      "Connected to DuckDB database: itops.duckdb\n",
      "CONNECTED to the database\n",
      "Query executed successfully.\n",
      "Data inserted successfully.\n",
      "Connection closed.\n"
     ]
    }
   ],
   "source": [
    "bizrunmanager.rerun_cluster(run_name=run_name,\n",
    "                          category_name=CATEGORY,\n",
    "                          num_clusters=NUM_CLUSTERS)"
   ]
  },
  {
   "cell_type": "code",
   "execution_count": 6,
   "metadata": {},
   "outputs": [
    {
     "name": "stdout",
     "output_type": "stream",
     "text": [
      "SELECT             INSIGHTS_FILE_NAME             FROM cluster_data             WHERE RUN_NAME = ?\n",
      "Connected to DuckDB database: itops.duckdb\n",
      "Fetched 9 rows.\n",
      "Connection closed.\n",
      "ITSM_Data-RUN008-15NOV2024-ITSM-RUN009-15NOV2024.parquet\n"
     ]
    }
   ],
   "source": [
    "df= bizrunmanager.insights_manager.get_input_filename(run_name)"
   ]
  },
  {
   "cell_type": "code",
   "execution_count": 7,
   "metadata": {},
   "outputs": [
    {
     "data": {
      "text/plain": [
       "CLUSTER_NAMES\n",
       "Outlook email issues and errors.                  23\n",
       "Discord installation and functionality issues.    19\n",
       "Device replacement and technical issues.          19\n",
       "IT support and equipment requests                 11\n",
       "Technical support and software access.            10\n",
       "CRM installation and functionality issues.        10\n",
       "Asana installation and update issues.              9\n",
       "E-Mail-Probleme und technische Unterstützung       9\n",
       "Installation assistance and support.               8\n",
       "Name: count, dtype: int64"
      ]
     },
     "execution_count": 7,
     "metadata": {},
     "output_type": "execute_result"
    }
   ],
   "source": [
    "df[\"CLUSTER_NAMES\"].value_counts()"
   ]
  },
  {
   "cell_type": "code",
   "execution_count": null,
   "metadata": {},
   "outputs": [],
   "source": []
  }
 ],
 "metadata": {
  "kernelspec": {
   "display_name": ".venv",
   "language": "python",
   "name": "python3"
  },
  "language_info": {
   "codemirror_mode": {
    "name": "ipython",
    "version": 3
   },
   "file_extension": ".py",
   "mimetype": "text/x-python",
   "name": "python",
   "nbconvert_exporter": "python",
   "pygments_lexer": "ipython3",
   "version": "3.11.6"
  }
 },
 "nbformat": 4,
 "nbformat_minor": 2
}
