{
 "cells": [
  {
   "cell_type": "code",
   "execution_count": 22,
   "metadata": {},
   "outputs": [],
   "source": [
    "import sys\n",
    "sys.path.append(\"../\")\n",
    "\n",
    "from itops.db.sqlite.sqlitehelper import SQLiteDatabaseHelper\n",
    "from config.configs import CONFIGS"
   ]
  },
  {
   "cell_type": "code",
   "execution_count": 23,
   "metadata": {},
   "outputs": [],
   "source": [
    "db_helper = SQLiteDatabaseHelper(\"itops.db\")"
   ]
  },
  {
   "cell_type": "code",
   "execution_count": 24,
   "metadata": {},
   "outputs": [
    {
     "name": "stdout",
     "output_type": "stream",
     "text": [
      "Connected to database: itops.db\n",
      "Query executed successfully.\n",
      "Query executed successfully.\n"
     ]
    }
   ],
   "source": [
    "db_helper.connect()\n",
    "\n",
    "db_helper.execute_query(\"\"\"\n",
    "                        DROP TABLE category_data \"\"\")\n",
    "        \n",
    "# Create a table\n",
    "db_helper.execute_query(\"\"\"\n",
    "CREATE TABLE IF NOT EXISTS category_data (\n",
    "                    CATEGORY VARCHAR(500) PRIMARY KEY, \n",
    "                    INPUT_FILE_NAME VARCHAR(500), \n",
    "                    DESCRIPTION_COL VARCHAR(500), \n",
    "                    CHALLENGE_COL VARCHAR(500), \n",
    "                    SOLUTION_COL VARCHAR(500)\n",
    "                    )\n",
    "\"\"\")"
   ]
  },
  {
   "cell_type": "code",
   "execution_count": 25,
   "metadata": {},
   "outputs": [
    {
     "name": "stdout",
     "output_type": "stream",
     "text": [
      "Connection closed.\n"
     ]
    }
   ],
   "source": [
    "db_helper.close_connection()"
   ]
  },
  {
   "cell_type": "code",
   "execution_count": 26,
   "metadata": {},
   "outputs": [
    {
     "name": "stdout",
     "output_type": "stream",
     "text": [
      "Connected to database: itops.db\n",
      "Fetched 0 rows.\n",
      "Connection closed.\n"
     ]
    }
   ],
   "source": [
    "db_helper.connect()\n",
    "records = db_helper.fetch_all(\"SELECT * FROM category_data\")\n",
    "db_helper.close_connection()"
   ]
  },
  {
   "cell_type": "code",
   "execution_count": 27,
   "metadata": {},
   "outputs": [],
   "source": [
    "for record in records:\n",
    "    print(record)"
   ]
  },
  {
   "cell_type": "code",
   "execution_count": 28,
   "metadata": {},
   "outputs": [
    {
     "data": {
      "text/plain": [
       "[]"
      ]
     },
     "execution_count": 28,
     "metadata": {},
     "output_type": "execute_result"
    }
   ],
   "source": [
    "records"
   ]
  },
  {
   "cell_type": "code",
   "execution_count": 29,
   "metadata": {},
   "outputs": [],
   "source": [
    "def query_helper(query,db_type = \"DUCKDB\"):\n",
    "\n",
    "        if db_type == \"DUCKDB\":\n",
    "            query = query.replace('%s', '?')\n",
    "        \n",
    "        return(query)"
   ]
  },
  {
   "cell_type": "code",
   "execution_count": 30,
   "metadata": {},
   "outputs": [],
   "source": [
    "def insert_cluster_data(CATEGORY , \n",
    "                    INPUT_FILE_NAME , \n",
    "                    DESCRIPTION_COL , \n",
    "                    CHALLENGE_COL , \n",
    "                    SOLUTION_COL ):\n",
    "        # Establish a connection to the database\n",
    "        db_helper.connect()\n",
    "        print(\"CONNECTED to the database\")\n",
    "\n",
    "        # Define the insert query\n",
    "        insert_query = \"\"\"\n",
    "        INSERT INTO  category_data (\n",
    "                    CATEGORY , \n",
    "                    INPUT_FILE_NAME , \n",
    "                    DESCRIPTION_COL , \n",
    "                    CHALLENGE_COL , \n",
    "                    SOLUTION_COL \n",
    "                    )\n",
    "        VALUES (%s, %s, %s, %s, %s)\n",
    "        \"\"\"\n",
    "\n",
    "        insert_query = query_helper(insert_query)\n",
    "        print(insert_query)\n",
    "        \n",
    "        # Prepare the data tuple\n",
    "        data = (CATEGORY , \n",
    "                    INPUT_FILE_NAME , \n",
    "                    DESCRIPTION_COL , \n",
    "                    CHALLENGE_COL , \n",
    "                    SOLUTION_COL )\n",
    "\n",
    "        try:\n",
    "            # Execute the insert query with the provided data\n",
    "            db_helper.execute_query(insert_query, data)\n",
    "            print(\"Data inserted successfully.\")\n",
    "        except Exception as e:\n",
    "            print(f\"An error occurred: {e}\")\n",
    "        finally:\n",
    "            # Ensure the database connection is closed\n",
    "            db_helper.close_connection()"
   ]
  },
  {
   "cell_type": "code",
   "execution_count": 31,
   "metadata": {},
   "outputs": [
    {
     "name": "stdout",
     "output_type": "stream",
     "text": [
      "Connected to database: itops.db\n",
      "CONNECTED to the database\n",
      "\n",
      "        INSERT INTO  category_data (\n",
      "                    CATEGORY , \n",
      "                    INPUT_FILE_NAME , \n",
      "                    DESCRIPTION_COL , \n",
      "                    CHALLENGE_COL , \n",
      "                    SOLUTION_COL \n",
      "                    )\n",
      "        VALUES (?, ?, ?, ?, ?)\n",
      "        \n",
      "Query executed successfully.\n",
      "Data inserted successfully.\n",
      "Connection closed.\n"
     ]
    }
   ],
   "source": [
    "insert_cluster_data(CATEGORY = \"ITSM\" , \n",
    "                    INPUT_FILE_NAME = \"ITSM_Data.csv\", \n",
    "                    DESCRIPTION_COL =\"Text\", \n",
    "                    CHALLENGE_COL =\"Text\", \n",
    "                    SOLUTION_COL =\"Solution\" )"
   ]
  },
  {
   "cell_type": "code",
   "execution_count": null,
   "metadata": {},
   "outputs": [],
   "source": []
  }
 ],
 "metadata": {
  "kernelspec": {
   "display_name": ".venv",
   "language": "python",
   "name": "python3"
  },
  "language_info": {
   "codemirror_mode": {
    "name": "ipython",
    "version": 3
   },
   "file_extension": ".py",
   "mimetype": "text/x-python",
   "name": "python",
   "nbconvert_exporter": "python",
   "pygments_lexer": "ipython3",
   "version": "3.11.6"
  }
 },
 "nbformat": 4,
 "nbformat_minor": 2
}
