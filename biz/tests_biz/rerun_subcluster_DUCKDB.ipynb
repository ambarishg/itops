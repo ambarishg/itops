{
 "cells": [
  {
   "cell_type": "code",
   "execution_count": 1,
   "metadata": {},
   "outputs": [],
   "source": [
    "import sys\n",
    "sys.path.append(\"../../\")"
   ]
  },
  {
   "cell_type": "code",
   "execution_count": 2,
   "metadata": {},
   "outputs": [
    {
     "name": "stderr",
     "output_type": "stream",
     "text": [
      "c:\\Ambarish\\itops\\.venv\\Lib\\site-packages\\sentence_transformers\\cross_encoder\\CrossEncoder.py:13: TqdmWarning: IProgress not found. Please update jupyter and ipywidgets. See https://ipywidgets.readthedocs.io/en/stable/user_install.html\n",
      "  from tqdm.autonotebook import tqdm, trange\n"
     ]
    },
    {
     "name": "stdout",
     "output_type": "stream",
     "text": [
      "True\n"
     ]
    }
   ],
   "source": [
    "from biz.manager.BizRunManager import BizRunManager"
   ]
  },
  {
   "cell_type": "code",
   "execution_count": 3,
   "metadata": {},
   "outputs": [],
   "source": [
    "description_column_name = \"Text\"\n",
    "MODEL_NAME = \"all-MiniLM-L6-v2\"\n",
    "CATEGORY = \"ITSM-PARQUET-MINI-EMBED\"\n",
    "PARENT_CLUSTER_NAME = 'Device issues and replacement requests.' \n",
    "PARENT_RUN_NAME = \"RUN0009\"\n",
    "NUM_CLUSTERS =4\n",
    "RUN_NAME = 'DEVICE004'"
   ]
  },
  {
   "cell_type": "code",
   "execution_count": 4,
   "metadata": {},
   "outputs": [],
   "source": [
    "bizrunmanager = BizRunManager(description_column_name,\n",
    "                              embedding_model_name =MODEL_NAME,\n",
    "                              db_type=\"DUCKDB\")"
   ]
  },
  {
   "cell_type": "code",
   "execution_count": 5,
   "metadata": {},
   "outputs": [
    {
     "name": "stdout",
     "output_type": "stream",
     "text": [
      "SELECT INSIGHTS_FILE_NAME,CONTAINER_NAME,ACCOUNT_NAME FROM run_log WHERE CATEGORY = ?             AND RUN_NAME = ? \n",
      "Connected to DuckDB database: itops.duckdb\n",
      "Fetched 1 rows.\n",
      "Connection closed.\n",
      "[('ITSM_Data-RUN005-ITSM-PARQUET-MINI-EMBED-RUN0009.parquet', 'itops', 'stgtxtsql')]\n",
      "Completed CLUSTERING PART 1 1 ROW\n",
      "Completed CLUSTERING PART 1 2 ROW\n",
      "Completed CLUSTERING PART 1 3 ROW\n",
      "Completed CLUSTERING PART 1 4 ROW\n",
      "Completed CLUSTERING FINAL\n",
      "    ID_request                                               Text  \\\n",
      "0         2738            <p>Please release attached file</p><br>   \n",
      "1         1943  <p><strong> My internet browser stopped to wor...   \n",
      "2         4848  I can't update Google Chrome to the newest ver...   \n",
      "3         3798  Keiner meiner Internet Browser funktioniert, a...   \n",
      "4         3936  My internet browser is working very slowly. Pl...   \n",
      "5         1222  I can't open webpage https://unsplash.com/. I ...   \n",
      "6         4917  <p>I use this websites to get news from the fr...   \n",
      "7         4989  <p>Need need to access this ML website ASAP: h...   \n",
      "8         4490                          <p>??????????????</p><br>   \n",
      "9         2848         This is just test message. Neglect please.   \n",
      "10        2502  My headphones aren't working. I would like to ...   \n",
      "11        3366  <p>I have defect with mouse. Please change</p>...   \n",
      "12        2734  <table><tbody><tr><td>Asset life has been ende...   \n",
      "13        1490  <p><br> I need guarantee exchange for a new de...   \n",
      "14        1774  I need the extra mouse for my new laptop. Can ...   \n",
      "15        1552  I would like to order mouse for left-handed pe...   \n",
      "16        3405                               New pc mouse needed.   \n",
      "17        4964     My keyboard is broken. Please send the new one   \n",
      "18        1868  Sound control on my keyboard doesn't work. Ple...   \n",
      "19        2519  <p><strong> Laptop keyboard doesn't work. I tr...   \n",
      "20        3608  I would like to order an extra keyboard. Offic...   \n",
      "21        4541  I would like to order the new keyboard for pre...   \n",
      "22        1937  Please send the new keyboard to my home addres...   \n",
      "23        4878  Please send the new keyboard to my home addres...   \n",
      "\n",
      "            Category                                      Solution  \\\n",
      "0            Outlook  Couldn't solve this. Forwarded to team lead.   \n",
      "1   Internet Browser                          Software reinstalled   \n",
      "2   Internet Browser                          Software reinstalled   \n",
      "3   Internet Browser                 Software updated, PC cleaned.   \n",
      "4   Internet Browser                 Software updated, PC cleaned.   \n",
      "5   Internet Browser                              Premission given   \n",
      "6   Internet Browser                              Premission given   \n",
      "7   Internet Browser                              Premission given   \n",
      "8   Internet Browser      Problem fixed by connection to users PC.   \n",
      "9               None                                          None   \n",
      "10       Help Needed                                     Item sent   \n",
      "11             Mouse                                     Item sent   \n",
      "12             Mouse                                     Item sent   \n",
      "13             Mouse                                     Item sent   \n",
      "14             Mouse                                     Item sent   \n",
      "15             Mouse                                     Item sent   \n",
      "16             Mouse                                     Item sent   \n",
      "17         Keyboard                                      Item sent   \n",
      "18         Keyboard                                      Item sent   \n",
      "19         Keyboard                                      Item sent   \n",
      "20         Keyboard                                      Item sent   \n",
      "21         Keyboard                                      Item sent   \n",
      "22         Keyboard                                      Item sent   \n",
      "23         Keyboard                                      Item sent   \n",
      "\n",
      "   Date_request_recieved Date_request_solved  ID_agent  \\\n",
      "0             24-10-2022          24-10-2022         3   \n",
      "1             13-10-2022          13-10-2022         3   \n",
      "2             18-10-2022          18-10-2022         2   \n",
      "3             25-10-2022          25-10-2022         2   \n",
      "4             22-10-2022          24-10-2022         1   \n",
      "5             25-10-2022          25-10-2022         3   \n",
      "6             13-10-2022          13-10-2022         3   \n",
      "7             19-10-2022          19-10-2022         1   \n",
      "8             21-10-2022          21-10-2022         3   \n",
      "9             26-10-2022          26-10-2022         2   \n",
      "10            14-10-2022          14-10-2022         3   \n",
      "11            25-10-2022          25-10-2022         2   \n",
      "12            03-10-2022          03-10-2022         2   \n",
      "13            31-10-2022          31-10-2022         3   \n",
      "14            27-10-2022          27-10-2022         3   \n",
      "15            04-10-2022          05-10-2022         2   \n",
      "16            19-10-2022          19-10-2022         2   \n",
      "17            31-10-2022          31-10-2022         2   \n",
      "18            12-10-2022          12-10-2022         3   \n",
      "19            18-10-2022          18-10-2022         3   \n",
      "20            20-10-2022          20-10-2022         3   \n",
      "21            19-10-2022          20-10-2022         2   \n",
      "22            04-10-2022          04-10-2022         3   \n",
      "23            17-10-2022          17-10-2022         1   \n",
      "\n",
      "                                               themes  \\\n",
      "0   Theme extraction not applicable; context missing.   \n",
      "1                        Firefox browser not working.   \n",
      "2                Updating Google Chrome for security.   \n",
      "3         Browser issues despite internet connection.   \n",
      "4           Internet browser performance improvement.   \n",
      "5                 Website access and browsing issues.   \n",
      "6                     Fresh food market news sources.   \n",
      "7                    Access Denied to Kaggle website.   \n",
      "8                                   Answer not found.   \n",
      "9                           Theme extraction request.   \n",
      "10          Headphones malfunction, need replacement.   \n",
      "11                   Mouse defect replacement request   \n",
      "12                    Asset disposal and replacement.   \n",
      "13       Device exchange request with serial numbers.   \n",
      "14                           Request for extra mouse.   \n",
      "15                        Left-handed mouse ordering.   \n",
      "16                               New PC mouse needed.   \n",
      "17                      Keyboard replacement request.   \n",
      "18                      Sound control keyboard issue.   \n",
      "19       Laptop keyboard malfunction troubleshooting.   \n",
      "20                    Office equipment order request.   \n",
      "21                           Ordering a new keyboard.   \n",
      "22                     Home office equipment request.   \n",
      "23                     Home office equipment request.   \n",
      "\n",
      "                                           embeddings  CLUSTERS  \\\n",
      "0   [0.019795723, 0.12983993, 0.009003452, -0.0029...         2   \n",
      "1   [0.06813962, -0.03495894, 3.1612355e-05, -0.03...         2   \n",
      "2   [-0.06701264, 0.00019380494, -0.0029570372, -0...         2   \n",
      "3   [0.0077005206, -0.014893721, 0.06769403, -0.01...         2   \n",
      "4   [0.003804173, 0.0070867273, 0.016896944, -0.00...         2   \n",
      "5   [0.031158106, 0.010301941, -0.0039016036, -0.0...         2   \n",
      "6   [-0.0019829774, -0.06947874, -0.0011814745, 0....         3   \n",
      "7   [-0.05805182, 0.04226231, -0.013213878, -0.026...         2   \n",
      "8   [-0.062197495, 0.05867435, -0.08805605, 0.0824...         2   \n",
      "9   [-0.045173083, 0.11601715, -0.009176785, -0.04...         3   \n",
      "10  [-0.059589066, 0.013271784, 0.021003641, -0.06...         1   \n",
      "11  [-0.104110636, -0.01695375, 0.10726666, -0.034...         1   \n",
      "12  [-0.025548266, 0.09506632, 0.04890928, -0.0289...         3   \n",
      "13  [-0.044473406, 0.018019214, 0.009681177, -0.13...         0   \n",
      "14  [-0.1452487, -0.054916844, 0.018517183, 0.0031...         1   \n",
      "15  [-0.028934803, -0.045013506, 0.07806526, 0.009...         1   \n",
      "16  [-0.03582122, -0.06810571, 0.053780414, -0.055...         1   \n",
      "17  [-0.08905749, -0.061272405, 0.06239404, -0.059...         1   \n",
      "18  [0.019596567, -0.14296423, 0.029011572, -0.020...         1   \n",
      "19  [-0.0002653633, -0.065643705, 0.04358784, -0.0...         1   \n",
      "20  [-0.0732282, 0.041418456, 0.04597308, -0.03742...         3   \n",
      "21  [-0.024984162, -0.07911769, 0.08350021, -0.058...         1   \n",
      "22  [-0.06341446, 0.05331761, 0.025026396, -0.0702...         3   \n",
      "23  [-0.06341446, 0.05331761, 0.025026396, -0.0702...         3   \n",
      "\n",
      "                                    CLUSTER_NAMES  \n",
      "0             Internet browser issues and access.  \n",
      "1             Internet browser issues and access.  \n",
      "2             Internet browser issues and access.  \n",
      "3             Internet browser issues and access.  \n",
      "4             Internet browser issues and access.  \n",
      "5             Internet browser issues and access.  \n",
      "6              Office equipment and news sources.  \n",
      "7             Internet browser issues and access.  \n",
      "8             Internet browser issues and access.  \n",
      "9              Office equipment and news sources.  \n",
      "10  Device malfunctions and replacement requests.  \n",
      "11  Device malfunctions and replacement requests.  \n",
      "12             Office equipment and news sources.  \n",
      "13   Device exchange request with serial numbers.  \n",
      "14  Device malfunctions and replacement requests.  \n",
      "15  Device malfunctions and replacement requests.  \n",
      "16  Device malfunctions and replacement requests.  \n",
      "17  Device malfunctions and replacement requests.  \n",
      "18  Device malfunctions and replacement requests.  \n",
      "19  Device malfunctions and replacement requests.  \n",
      "20             Office equipment and news sources.  \n",
      "21  Device malfunctions and replacement requests.  \n",
      "22             Office equipment and news sources.  \n",
      "23             Office equipment and news sources.  \n",
      "Connected to DuckDB database: itops.duckdb\n",
      "Query executed successfully.\n",
      "Connection closed.\n",
      "Connected to DuckDB database: itops.duckdb\n",
      "CONNECTED to the database\n",
      "Query executed successfully.\n",
      "Data inserted successfully.\n",
      "Connection closed.\n",
      "Connected to DuckDB database: itops.duckdb\n",
      "CONNECTED to the database\n",
      "Query executed successfully.\n",
      "Data inserted successfully.\n",
      "Connection closed.\n",
      "Connected to DuckDB database: itops.duckdb\n",
      "CONNECTED to the database\n",
      "Query executed successfully.\n",
      "Data inserted successfully.\n",
      "Connection closed.\n",
      "Connected to DuckDB database: itops.duckdb\n",
      "CONNECTED to the database\n",
      "Query executed successfully.\n",
      "Data inserted successfully.\n",
      "Connection closed.\n"
     ]
    }
   ],
   "source": [
    "bizrunmanager.rerun_sub_cluster(RUN_NAME,CATEGORY,NUM_CLUSTERS,\n",
    "                                PARENT_CLUSTER_NAME,PARENT_RUN_NAME)"
   ]
  },
  {
   "cell_type": "code",
   "execution_count": 6,
   "metadata": {},
   "outputs": [
    {
     "name": "stdout",
     "output_type": "stream",
     "text": [
      "SELECT             INSIGHTS_FILE_NAME             FROM cluster_data             WHERE RUN_NAME = ?\n",
      "Connected to DuckDB database: itops.duckdb\n",
      "Fetched 4 rows.\n",
      "Connection closed.\n",
      "ITSM_Data-RUN005-ITSM-PARQUET-MINI-EMBED-RUN0009-DEVICE004.parquet\n"
     ]
    }
   ],
   "source": [
    "df= bizrunmanager.insights_manager.get_input_filename(RUN_NAME)"
   ]
  },
  {
   "cell_type": "code",
   "execution_count": 7,
   "metadata": {},
   "outputs": [
    {
     "data": {
      "text/plain": [
       "CLUSTER_NAMES\n",
       "Device malfunctions and replacement requests.    9\n",
       "Internet browser issues and access.              8\n",
       "Office equipment and news sources.               6\n",
       "Device exchange request with serial numbers.     1\n",
       "Name: count, dtype: int64"
      ]
     },
     "execution_count": 7,
     "metadata": {},
     "output_type": "execute_result"
    }
   ],
   "source": [
    "df[\"CLUSTER_NAMES\"].value_counts()"
   ]
  },
  {
   "cell_type": "code",
   "execution_count": null,
   "metadata": {},
   "outputs": [],
   "source": []
  }
 ],
 "metadata": {
  "kernelspec": {
   "display_name": ".venv",
   "language": "python",
   "name": "python3"
  },
  "language_info": {
   "codemirror_mode": {
    "name": "ipython",
    "version": 3
   },
   "file_extension": ".py",
   "mimetype": "text/x-python",
   "name": "python",
   "nbconvert_exporter": "python",
   "pygments_lexer": "ipython3",
   "version": "3.11.6"
  }
 },
 "nbformat": 4,
 "nbformat_minor": 2
}
