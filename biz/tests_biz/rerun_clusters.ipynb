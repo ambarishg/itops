{
 "cells": [
  {
   "cell_type": "code",
   "execution_count": 1,
   "metadata": {},
   "outputs": [],
   "source": [
    "import sys\n",
    "sys.path.append(\"../../\")"
   ]
  },
  {
   "cell_type": "code",
   "execution_count": 2,
   "metadata": {},
   "outputs": [
    {
     "name": "stderr",
     "output_type": "stream",
     "text": [
      "c:\\Ambarish\\itops\\.venv\\Lib\\site-packages\\sentence_transformers\\cross_encoder\\CrossEncoder.py:13: TqdmWarning: IProgress not found. Please update jupyter and ipywidgets. See https://ipywidgets.readthedocs.io/en/stable/user_install.html\n",
      "  from tqdm.autonotebook import tqdm, trange\n"
     ]
    },
    {
     "name": "stdout",
     "output_type": "stream",
     "text": [
      "True\n"
     ]
    }
   ],
   "source": [
    "from biz.manager.BizRunManager import BizRunManager"
   ]
  },
  {
   "cell_type": "code",
   "execution_count": 3,
   "metadata": {},
   "outputs": [],
   "source": [
    "description_column_name = \"Text\"\n",
    "MODEL_NAME = \"all-MiniLM-L6-v2\"\n",
    "CATEGORY = \"ITSM-PARQUET-MINI-EMBED\"\n",
    "run_name = \"RUN0002\"\n",
    "NUM_CLUSTERS =2"
   ]
  },
  {
   "cell_type": "code",
   "execution_count": 4,
   "metadata": {},
   "outputs": [],
   "source": [
    "bizrunmanager = BizRunManager(description_column_name,\n",
    "                              embedding_model_name =MODEL_NAME)"
   ]
  },
  {
   "cell_type": "code",
   "execution_count": 5,
   "metadata": {},
   "outputs": [
    {
     "name": "stdout",
     "output_type": "stream",
     "text": [
      "SELECT INSIGHTS_FILE_NAME,CONTAINER_NAME,ACCOUNT_NAME FROM run_log WHERE CATEGORY = ?             AND PARENT_CLUSTER_NAME IS NULL \n",
      "Connected to database: itops.db\n",
      "Fetched 6 rows.\n",
      "Connection closed.\n",
      "Completed CLUSTERING PART 1 1 ROW\n",
      "Completed CLUSTERING PART 1 2 ROW\n",
      "Completed CLUSTERING FINAL\n",
      "Connected to database: itops.db\n",
      "Query executed successfully.\n",
      "Connection closed.\n",
      "CLUSTER Names are ['Software installation and troubleshooting requests.'\n",
      " 'IT support and equipment requests']\n",
      "Connected to database: itops.db\n",
      "CONNECTED to the database\n",
      "Query executed successfully.\n",
      "Data inserted successfully.\n",
      "Connection closed.\n",
      "Connected to database: itops.db\n",
      "CONNECTED to the database\n",
      "Query executed successfully.\n",
      "Data inserted successfully.\n",
      "Connection closed.\n"
     ]
    }
   ],
   "source": [
    "bizrunmanager.rerun_cluster(run_name=run_name,\n",
    "                          category_name=CATEGORY,\n",
    "                          num_clusters=NUM_CLUSTERS)"
   ]
  },
  {
   "cell_type": "code",
   "execution_count": 6,
   "metadata": {},
   "outputs": [
    {
     "name": "stdout",
     "output_type": "stream",
     "text": [
      "SELECT             INSIGHTS_FILE_NAME             FROM cluster_data             WHERE RUN_NAME = ?\n",
      "Connected to database: itops.db\n",
      "Fetched 2 rows.\n",
      "Connection closed.\n"
     ]
    }
   ],
   "source": [
    "df= bizrunmanager.insights_manager.get_input_filename(run_name)"
   ]
  },
  {
   "cell_type": "code",
   "execution_count": 7,
   "metadata": {},
   "outputs": [
    {
     "data": {
      "text/plain": [
       "CLUSTER_NAMES\n",
       "Software installation and troubleshooting requests.    88\n",
       "IT support and equipment requests                      30\n",
       "Name: count, dtype: int64"
      ]
     },
     "execution_count": 7,
     "metadata": {},
     "output_type": "execute_result"
    }
   ],
   "source": [
    "df[\"CLUSTER_NAMES\"].value_counts()"
   ]
  },
  {
   "cell_type": "code",
   "execution_count": null,
   "metadata": {},
   "outputs": [],
   "source": []
  }
 ],
 "metadata": {
  "kernelspec": {
   "display_name": ".venv",
   "language": "python",
   "name": "python3"
  },
  "language_info": {
   "codemirror_mode": {
    "name": "ipython",
    "version": 3
   },
   "file_extension": ".py",
   "mimetype": "text/x-python",
   "name": "python",
   "nbconvert_exporter": "python",
   "pygments_lexer": "ipython3",
   "version": "3.11.6"
  }
 },
 "nbformat": 4,
 "nbformat_minor": 2
}
