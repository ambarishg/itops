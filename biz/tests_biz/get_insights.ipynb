{
 "cells": [
  {
   "cell_type": "code",
   "execution_count": 1,
   "metadata": {},
   "outputs": [],
   "source": [
    "import sys\n",
    "sys.path.append(\"../../\")\n",
    "from pprint import pprint"
   ]
  },
  {
   "cell_type": "code",
   "execution_count": 2,
   "metadata": {},
   "outputs": [
    {
     "name": "stderr",
     "output_type": "stream",
     "text": [
      "c:\\Ambarish\\itops\\.venv\\Lib\\site-packages\\sentence_transformers\\cross_encoder\\CrossEncoder.py:13: TqdmWarning: IProgress not found. Please update jupyter and ipywidgets. See https://ipywidgets.readthedocs.io/en/stable/user_install.html\n",
      "  from tqdm.autonotebook import tqdm, trange\n"
     ]
    },
    {
     "name": "stdout",
     "output_type": "stream",
     "text": [
      "True\n"
     ]
    }
   ],
   "source": [
    "from biz.manager.BizRunManager import BizRunManager"
   ]
  },
  {
   "cell_type": "code",
   "execution_count": 3,
   "metadata": {},
   "outputs": [],
   "source": [
    "description_column_name = \"Text\"\n",
    "MODEL_NAME = \"all-MiniLM-L6-v2\"\n",
    "\n",
    "RUN_NAME = 'OUTLOOK004'\n",
    "CLUSTER_NAME = 'Outlook issues and troubleshooting requests.'"
   ]
  },
  {
   "cell_type": "code",
   "execution_count": 4,
   "metadata": {},
   "outputs": [],
   "source": [
    "bizRunManager = BizRunManager(description_column_name,\n",
    "                              embedding_model_name =MODEL_NAME)"
   ]
  },
  {
   "cell_type": "code",
   "execution_count": 5,
   "metadata": {},
   "outputs": [
    {
     "name": "stdout",
     "output_type": "stream",
     "text": [
      "SELECT             INSIGHTS_FILE_NAME             FROM cluster_data             WHERE RUN_NAME = ?             AND CLUSTER_NAME = ?\n",
      "Connected to database: itops.db\n",
      "Fetched 1 rows.\n",
      "Connection closed.\n"
     ]
    }
   ],
   "source": [
    "COL_NAME = \"Solution\"\n",
    "solutions = bizRunManager.get_insights_solutions(RUN_NAME,\n",
    "                                                 CLUSTER_NAME,\n",
    "                                                 COL_NAME)"
   ]
  },
  {
   "cell_type": "code",
   "execution_count": 6,
   "metadata": {},
   "outputs": [
    {
     "name": "stdout",
     "output_type": "stream",
     "text": [
      "(' 1. Outlook reinstalled\\n'\n",
      " '2. Software reinstalled\\n'\n",
      " '3. Software updated, PC cleaned\\n'\n",
      " '4. Attachment enabled\\n'\n",
      " '5. Permission given')\n"
     ]
    }
   ],
   "source": [
    "pprint(solutions)"
   ]
  },
  {
   "cell_type": "code",
   "execution_count": 7,
   "metadata": {},
   "outputs": [
    {
     "name": "stdout",
     "output_type": "stream",
     "text": [
      "SELECT             INSIGHTS_FILE_NAME             FROM cluster_data             WHERE RUN_NAME = ?             AND CLUSTER_NAME = ?\n",
      "Connected to database: itops.db\n",
      "Fetched 1 rows.\n",
      "Connection closed.\n",
      "(' 1. **Inability to Send or Receive Emails**: Multiple users report issues '\n",
      " 'with sending and receiving emails, including specific error messages and '\n",
      " 'problems after updates.\\n'\n",
      " '\\n'\n",
      " '2. **Outlook Crashing or Closing Unexpectedly**: Users experience Outlook '\n",
      " 'opening normally but then closing on its own shortly after, making it '\n",
      " 'difficult to use the application.\\n'\n",
      " '\\n'\n",
      " '3. **Missing Email Signatures**: After updating Outlook, users have lost '\n",
      " 'their email signatures, which affects their professional communication.\\n'\n",
      " '\\n'\n",
      " '4. **Blocked Attachments**: Users are facing issues with attachments being '\n",
      " 'blocked due to email policy, preventing them from accessing important '\n",
      " 'files.\\n'\n",
      " '\\n'\n",
      " '5. **Mobile Email Issues**: Users report that their Outlook on mobile '\n",
      " 'devices is not updating properly, making it hard to access current emails '\n",
      " 'and open attachments.')\n"
     ]
    }
   ],
   "source": [
    "COL_NAME = \"Text\"\n",
    "challenges = bizRunManager.get_insights_challenges(RUN_NAME,\n",
    "                                                 CLUSTER_NAME,\n",
    "                                                 COL_NAME)\n",
    "pprint(challenges)"
   ]
  },
  {
   "cell_type": "code",
   "execution_count": null,
   "metadata": {},
   "outputs": [],
   "source": []
  }
 ],
 "metadata": {
  "kernelspec": {
   "display_name": ".venv",
   "language": "python",
   "name": "python3"
  },
  "language_info": {
   "codemirror_mode": {
    "name": "ipython",
    "version": 3
   },
   "file_extension": ".py",
   "mimetype": "text/x-python",
   "name": "python",
   "nbconvert_exporter": "python",
   "pygments_lexer": "ipython3",
   "version": "3.11.6"
  }
 },
 "nbformat": 4,
 "nbformat_minor": 2
}
