{
 "cells": [
  {
   "cell_type": "code",
   "execution_count": 1,
   "metadata": {},
   "outputs": [
    {
     "name": "stdout",
     "output_type": "stream",
     "text": [
      "True\n"
     ]
    }
   ],
   "source": [
    "import sys\n",
    "sys.path.append(\"../../\")\n",
    "\n",
    "from itops.storage.azure_blob.azure_blob_helper import AzureBlobHelper\n",
    "from itops.config.configs import CONFIGS"
   ]
  },
  {
   "cell_type": "code",
   "execution_count": 2,
   "metadata": {},
   "outputs": [],
   "source": [
    "description_column_name = \"Text\"\n",
    "MODEL_NAME = \"all-MiniLM-L6-v2\"\n",
    "CATEGORY = \"ITSM-PARQUET2\"\n",
    "run_name = \"RUN0006\"\n",
    "user_input = \"Please extract the theme of the provided context in Maximum 5 words\"\n",
    "NUM_CLUSTERS = 6"
   ]
  },
  {
   "cell_type": "code",
   "execution_count": 3,
   "metadata": {},
   "outputs": [
    {
     "name": "stderr",
     "output_type": "stream",
     "text": [
      "c:\\Ambarish\\itops\\.venv\\Lib\\site-packages\\sentence_transformers\\cross_encoder\\CrossEncoder.py:13: TqdmWarning: IProgress not found. Please update jupyter and ipywidgets. See https://ipywidgets.readthedocs.io/en/stable/user_install.html\n",
      "  from tqdm.autonotebook import tqdm, trange\n"
     ]
    }
   ],
   "source": [
    "from itops.runmanager.runmamanger import RunManager"
   ]
  },
  {
   "cell_type": "code",
   "execution_count": 4,
   "metadata": {},
   "outputs": [],
   "source": [
    "run_manager = RunManager(description_column_name=description_column_name,\n",
    "                         embedding_model_name=MODEL_NAME,\n",
    "                         db_type=\"DUCKDB\")"
   ]
  },
  {
   "cell_type": "code",
   "execution_count": 5,
   "metadata": {},
   "outputs": [
    {
     "name": "stdout",
     "output_type": "stream",
     "text": [
      "SELECT INSIGHTS_FILE_NAME,CONTAINER_NAME,ACCOUNT_NAME FROM run_log WHERE CATEGORY = ?             AND PARENT_CLUSTER_NAME IS NULL \n",
      "Connected to DuckDB database: itops.duckdb\n",
      "Fetched 5 rows.\n",
      "Connection closed.\n",
      "[('ITSM_Data-RUN000777-ITSM-PARQUET2.parquet', 'itops', 'stgtxtsql'), ('ITSM_Data-RUN000777-ITSM-PARQUET2-RUN00055.parquet', 'itops', 'stgtxtsql'), ('ITSM_Data-RUN000777-ITSM-PARQUET2-RUN00055.parquet', 'itops', 'stgtxtsql'), ('ITSM_Data-RUN000777-ITSM-PARQUET2-RUN00055.parquet', 'itops', 'stgtxtsql'), ('ITSM_Data-RUN000777-ITSM-PARQUET2-RUN0006.parquet', 'itops', 'stgtxtsql')]\n",
      "Completed CLUSTERING PART 1 1 ROW\n",
      "Completed CLUSTERING PART 1 2 ROW\n",
      "Completed CLUSTERING PART 1 3 ROW\n",
      "Completed CLUSTERING PART 1 4 ROW\n",
      "Completed CLUSTERING PART 1 5 ROW\n",
      "Completed CLUSTERING PART 1 6 ROW\n",
      "Completed CLUSTERING FINAL\n",
      "Connected to DuckDB database: itops.duckdb\n",
      "Query executed successfully.\n",
      "Connection closed.\n",
      "CLUSTER Names are ['Discord Installation and Performance Issues'\n",
      " 'Technical Support, Software Installation, Browser Issues'\n",
      " 'IT Support and Access Issues' 'Outlook Email Issues and Errors'\n",
      " 'CRM Technical Issues and Requests'\n",
      " 'Device replacement and ordering accessories']\n",
      "Connected to DuckDB database: itops.duckdb\n",
      "CONNECTED to the database\n",
      "Query executed successfully.\n",
      "Data inserted successfully.\n",
      "Connection closed.\n",
      "Connected to DuckDB database: itops.duckdb\n",
      "CONNECTED to the database\n",
      "Query executed successfully.\n",
      "Data inserted successfully.\n",
      "Connection closed.\n",
      "Connected to DuckDB database: itops.duckdb\n",
      "CONNECTED to the database\n",
      "Query executed successfully.\n",
      "Data inserted successfully.\n",
      "Connection closed.\n",
      "Connected to DuckDB database: itops.duckdb\n",
      "CONNECTED to the database\n",
      "Query executed successfully.\n",
      "Data inserted successfully.\n",
      "Connection closed.\n",
      "Connected to DuckDB database: itops.duckdb\n",
      "CONNECTED to the database\n",
      "Query executed successfully.\n",
      "Data inserted successfully.\n",
      "Connection closed.\n",
      "Connected to DuckDB database: itops.duckdb\n",
      "CONNECTED to the database\n",
      "Query executed successfully.\n",
      "Data inserted successfully.\n",
      "Connection closed.\n"
     ]
    }
   ],
   "source": [
    "run_manager.rerun_cluster(run_name=run_name,\n",
    "                          prompt = user_input,\n",
    "                          category_name=CATEGORY,\n",
    "                          num_clusters=NUM_CLUSTERS)"
   ]
  },
  {
   "cell_type": "code",
   "execution_count": 6,
   "metadata": {},
   "outputs": [],
   "source": [
    "from itops.storage.azure_blob.parquet_helper import ParquetHelper"
   ]
  },
  {
   "cell_type": "code",
   "execution_count": 7,
   "metadata": {},
   "outputs": [],
   "source": [
    "FILENAME = 'ITSM_Data-RUN000777-ITSM-PARQUET2-RUN0006.parquet'\n",
    "CONTAINER_NAME = 'itops'\n",
    "ACCOUNT_NAME = 'stgtxtsql'\n",
    "blob_helper = AzureBlobHelper(account_name= ACCOUNT_NAME,\n",
    "                              container_name= CONTAINER_NAME,\n",
    "                              account_key=CONFIGS.AZURE_BLOB_STORAGE_KEY)\n",
    "file_helper = ParquetHelper(azure_blob_helper=blob_helper)\n",
    "df = file_helper.read_file(FILENAME)"
   ]
  },
  {
   "cell_type": "code",
   "execution_count": 8,
   "metadata": {},
   "outputs": [
    {
     "data": {
      "text/plain": [
       "Index(['ID_request', 'Text', 'Category', 'Solution', 'Date_request_recieved',\n",
       "       'Date_request_solved', 'ID_agent', 'themes', 'embeddings', 'CLUSTERS',\n",
       "       'CLUSTER_NAMES'],\n",
       "      dtype='object')"
      ]
     },
     "execution_count": 8,
     "metadata": {},
     "output_type": "execute_result"
    }
   ],
   "source": [
    "df.columns"
   ]
  },
  {
   "cell_type": "code",
   "execution_count": 9,
   "metadata": {},
   "outputs": [
    {
     "data": {
      "text/plain": [
       "array(['Discord server management and moderation.',\n",
       "       'Installing Discord on new PC.',\n",
       "       'Discord disappeared after Windows update.',\n",
       "       'Technical issue with Discord.',\n",
       "       'Discord installation requirements.',\n",
       "       'Discord freezing, update issue.',\n",
       "       'Request for Discord emojis feature.', 'Installation needed.',\n",
       "       'Discord notification and freezing issues.',\n",
       "       'Urgent installation of Discord.',\n",
       "       'IT Support, Prioritization, Frustration',\n",
       "       'Discord group and channel management',\n",
       "       'Importance of Discord access',\n",
       "       'Discord installation on new laptop.',\n",
       "       'Audio communication issues on Discord',\n",
       "       '\"Challenges of Space Exploration\"',\n",
       "       'Project management tool installation request',\n",
       "       'Reinstallation of Asana after Windows update.',\n",
       "       'Task completion issue in Asana', 'Asana not working, need help.',\n",
       "       'Software update issue on PC.', 'Asana not working after restart.',\n",
       "       'Error opening Asana application',\n",
       "       'Asana installation issue Chrome upgrade',\n",
       "       '\"Request for technical support\"',\n",
       "       'Asana update permission issue.',\n",
       "       'Microsoft Outlook email troubleshooting.',\n",
       "       'Urgent need for prompt communication.',\n",
       "       'Mail not working after update.',\n",
       "       'Outlook signature disappeared after update.',\n",
       "       'Outlook error, reinstall, new error',\n",
       "       'Attachment blocked due to policy',\n",
       "       'Email attachment unblocking request.',\n",
       "       'Email notification failure.', 'File release request.',\n",
       "       'Outlook email application troubleshooting.',\n",
       "       'Email issues on mobile device', 'Email attachments, unlocking.',\n",
       "       'Switching from Outlook to Gmail.',\n",
       "       'Lost email signature, need help.',\n",
       "       'Outlook update issue. Need help.',\n",
       "       'Outlook cannot start or connect.',\n",
       "       'Installing Outlook on new laptop.',\n",
       "       'Request to release blocked attachments',\n",
       "       'Data access request for brainstorming.',\n",
       "       'Email delivery issues, Outlook, Microsoft',\n",
       "       'Outlook email connection issues',\n",
       "       'Outlook, Windows update, missing application',\n",
       "       'Outlook email inbox not updating.',\n",
       "       'Sharing email inbox permissions error',\n",
       "       'Outlook keeps closing on startup',\n",
       "       'Outlook, offline, internet connection',\n",
       "       'Email not working, urgent contact.', 'Email communication issues',\n",
       "       'Request for assistance.',\n",
       "       'Email troubleshooting and spam prevention.',\n",
       "       'Internet Browser Technical Issues',\n",
       "       'Updating Google Chrome for security.',\n",
       "       'Internet browser not functioning',\n",
       "       'Internet browser not working.',\n",
       "       'Improving internet browser speed.',\n",
       "       'Website access permission request.',\n",
       "       'Accessing Online Business Seminars',\n",
       "       'Downloading regulatory content via FTP',\n",
       "       'Fresh food market news.', 'Accessing Stock Market Data',\n",
       "       'Website access denied.',\n",
       "       \"I'm sorry, but I cannot provide a theme for the context as you have not provided any specific context to work with. If you could provide a specific passage or information, I would be happy to help you extract the theme in 5 words or less.\",\n",
       "       'CRM system not working', 'CRM customer field editing issue.',\n",
       "       '\"HubSpot CRM not working\"', 'Issue with starting Salesforce CRM',\n",
       "       'CRM, Windows-Update, Funktionsstörung',\n",
       "       'Adding Zoom plug-in to HubSpot',\n",
       "       'Installing Salesforce CRM on new laptop',\n",
       "       'Installation of Salesforce CRM', 'CRM field adjustment issue.',\n",
       "       'CRM data loading issue.',\n",
       "       'Installation, erforderlich, Anweisungen, Software, Computer',\n",
       "       'CRM software installation request.', 'CRM system not working.',\n",
       "       'Test message - Neglect', 'Test message, disregard.',\n",
       "       'Installing CRM on PC.', 'Outlook inbox storage request.',\n",
       "       'Outlook mobile mail issue.',\n",
       "       \"Sure, I'd be happy to help. What do you need assistance with?\",\n",
       "       'HubSpot CRM Repair Request', 'Office Email Connection Issues',\n",
       "       'Enabling Discord emojis for user.',\n",
       "       'Headphones not working, ordering new.',\n",
       "       'Seeking advice from an agent.',\n",
       "       '\"Defective Mouse Replacement Request\"',\n",
       "       'Asset life ended, replace mouse.',\n",
       "       'Guarantee exchange for new device.',\n",
       "       'Warranty replacement for new device.',\n",
       "       'Mouse left button not working.', 'Mouse right-click not working',\n",
       "       'Request for additional computer accessory',\n",
       "       'Technical support, computer mouse issues.',\n",
       "       'Ordering left-handed mouse.', '\"New PC mouse needed\"',\n",
       "       'Keyboard replacement.', 'Keyboard sound control issue.',\n",
       "       'Request for additional keyboard.',\n",
       "       'Keyboard not working on laptop', 'Laptop keyboard not working.',\n",
       "       'Ordering extra office keyboard.', 'Ordering additional keyboard.',\n",
       "       'Keyboard replacement required.',\n",
       "       'Ordering new keyboard for presentation.',\n",
       "       'Shipping address for new keyboard.'], dtype=object)"
      ]
     },
     "execution_count": 9,
     "metadata": {},
     "output_type": "execute_result"
    }
   ],
   "source": [
    "df[\"themes\"].unique()"
   ]
  },
  {
   "cell_type": "code",
   "execution_count": 10,
   "metadata": {},
   "outputs": [
    {
     "data": {
      "text/plain": [
       "6"
      ]
     },
     "execution_count": 10,
     "metadata": {},
     "output_type": "execute_result"
    }
   ],
   "source": [
    "len(df[\"CLUSTER_NAMES\"].unique())"
   ]
  },
  {
   "cell_type": "code",
   "execution_count": 11,
   "metadata": {},
   "outputs": [
    {
     "data": {
      "text/plain": [
       "array([5, 2, 0, 1, 4, 3], dtype=int32)"
      ]
     },
     "execution_count": 11,
     "metadata": {},
     "output_type": "execute_result"
    }
   ],
   "source": [
    "df[\"CLUSTERS\"].unique()"
   ]
  },
  {
   "cell_type": "code",
   "execution_count": 12,
   "metadata": {},
   "outputs": [],
   "source": [
    "CLUSTER_NAMES=df[\"CLUSTER_NAMES\"].unique()"
   ]
  },
  {
   "cell_type": "code",
   "execution_count": 13,
   "metadata": {},
   "outputs": [
    {
     "data": {
      "text/plain": [
       "('Discord Installation and Performance Issues', 6)"
      ]
     },
     "execution_count": 13,
     "metadata": {},
     "output_type": "execute_result"
    }
   ],
   "source": [
    "CLUSTER_NAMES[0],len(CLUSTER_NAMES)"
   ]
  },
  {
   "cell_type": "code",
   "execution_count": 14,
   "metadata": {},
   "outputs": [
    {
     "name": "stdout",
     "output_type": "stream",
     "text": [
      "Discord Installation and Performance Issues\n",
      "Technical Support, Software Installation, Browser Issues\n",
      "IT Support and Access Issues\n",
      "Outlook Email Issues and Errors\n",
      "CRM Technical Issues and Requests\n",
      "Device replacement and ordering accessories\n"
     ]
    }
   ],
   "source": [
    "for cluster_name in CLUSTER_NAMES:\n",
    "    print(cluster_name)"
   ]
  },
  {
   "cell_type": "code",
   "execution_count": 15,
   "metadata": {},
   "outputs": [],
   "source": [
    "counts = df[\"CLUSTER_NAMES\"].value_counts()"
   ]
  },
  {
   "cell_type": "code",
   "execution_count": 16,
   "metadata": {},
   "outputs": [
    {
     "name": "stdout",
     "output_type": "stream",
     "text": [
      "Outlook Email Issues and Errors 28\n",
      "Device replacement and ordering accessories 22\n",
      "IT Support and Access Issues 20\n",
      "Technical Support, Software Installation, Browser Issues 20\n",
      "Discord Installation and Performance Issues 14\n",
      "CRM Technical Issues and Requests 14\n"
     ]
    }
   ],
   "source": [
    "for item in counts.items():\n",
    "    print(item[0],item[1])"
   ]
  },
  {
   "cell_type": "markdown",
   "metadata": {},
   "source": [
    "SUB CLUSTERING"
   ]
  },
  {
   "cell_type": "code",
   "execution_count": 17,
   "metadata": {},
   "outputs": [
    {
     "name": "stdout",
     "output_type": "stream",
     "text": [
      "SELECT INSIGHTS_FILE_NAME,CONTAINER_NAME,ACCOUNT_NAME FROM run_log WHERE CATEGORY = ?             AND RUN_NAME = ? AND PARENT_CLUSTER_NAME IS NULL \n",
      "Connected to DuckDB database: itops.duckdb\n",
      "Fetched 2 rows.\n",
      "Connection closed.\n",
      "[('ITSM_Data-RUN000777-ITSM-PARQUET2-RUN0006.parquet', 'itops', 'stgtxtsql'), ('ITSM_Data-RUN000777-ITSM-PARQUET2-RUN0006.parquet', 'itops', 'stgtxtsql')]\n",
      "Completed CLUSTERING PART 1 1 ROW\n",
      "Completed CLUSTERING PART 1 2 ROW\n",
      "Completed CLUSTERING PART 1 3 ROW\n",
      "Completed CLUSTERING FINAL\n",
      "Connected to DuckDB database: itops.duckdb\n",
      "Query executed successfully.\n",
      "Connection closed.\n",
      "Connected to DuckDB database: itops.duckdb\n",
      "CONNECTED to the database\n",
      "Query executed successfully.\n",
      "Data inserted successfully.\n",
      "Connection closed.\n",
      "Connected to DuckDB database: itops.duckdb\n",
      "CONNECTED to the database\n",
      "Query executed successfully.\n",
      "Data inserted successfully.\n",
      "Connection closed.\n",
      "Connected to DuckDB database: itops.duckdb\n",
      "CONNECTED to the database\n",
      "Query executed successfully.\n",
      "Data inserted successfully.\n",
      "Connection closed.\n"
     ]
    }
   ],
   "source": [
    "PARENT_CLUSTER_NAME = 'CRM Technical Issues and Requests'\n",
    "RUN_NAME = 'CRM0001'\n",
    "PARENT_RUN_NAME = run_name\n",
    "\n",
    "run_manager.rerun_sub_cluster(run_name=RUN_NAME,\n",
    "                          prompt = user_input,\n",
    "                          category_name=CATEGORY,\n",
    "                          num_clusters=3,\n",
    "                          parent_cluster_name =PARENT_CLUSTER_NAME,\n",
    "                          parent_run_name = PARENT_RUN_NAME)"
   ]
  },
  {
   "cell_type": "code",
   "execution_count": 18,
   "metadata": {},
   "outputs": [],
   "source": [
    "FILENAME = 'ITSM_Data-RUN000777-ITSM-PARQUET2-RUN0006-CRM0001.parquet'\n",
    "CONTAINER_NAME = 'itops'\n",
    "ACCOUNT_NAME = 'stgtxtsql'\n",
    "blob_helper = AzureBlobHelper(account_name= ACCOUNT_NAME,\n",
    "                              container_name= CONTAINER_NAME,\n",
    "                              account_key=CONFIGS.AZURE_BLOB_STORAGE_KEY)\n",
    "file_helper = ParquetHelper(azure_blob_helper=blob_helper)\n",
    "df = file_helper.read_file(FILENAME)"
   ]
  },
  {
   "cell_type": "code",
   "execution_count": 19,
   "metadata": {},
   "outputs": [
    {
     "data": {
      "text/plain": [
       "CLUSTER_NAMES\n",
       "Salesforce CRM installation request.    6\n",
       "CRM Technical Issues                    5\n",
       "Hubspot CRM technical issues            3\n",
       "Name: count, dtype: int64"
      ]
     },
     "execution_count": 19,
     "metadata": {},
     "output_type": "execute_result"
    }
   ],
   "source": [
    "df[\"CLUSTER_NAMES\"].value_counts()"
   ]
  },
  {
   "cell_type": "code",
   "execution_count": null,
   "metadata": {},
   "outputs": [],
   "source": []
  }
 ],
 "metadata": {
  "kernelspec": {
   "display_name": ".venv",
   "language": "python",
   "name": "python3"
  },
  "language_info": {
   "codemirror_mode": {
    "name": "ipython",
    "version": 3
   },
   "file_extension": ".py",
   "mimetype": "text/x-python",
   "name": "python",
   "nbconvert_exporter": "python",
   "pygments_lexer": "ipython3",
   "version": "3.11.6"
  }
 },
 "nbformat": 4,
 "nbformat_minor": 2
}
