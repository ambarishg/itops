{
 "cells": [
  {
   "cell_type": "code",
   "execution_count": null,
   "metadata": {},
   "outputs": [],
   "source": [
    "import sys\n",
    "sys.path.append(\"../../\")\n",
    "\n",
    "from itops.storage.azure_blob.azure_blob_helper import AzureBlobHelper\n",
    "from itops.storage.azure_blob.parquet_helper import ParquetHelper\n",
    "from itops.config.configs import CONFIGS"
   ]
  },
  {
   "cell_type": "code",
   "execution_count": null,
   "metadata": {},
   "outputs": [],
   "source": [
    "FILENAME = 'ITSM_Data-RUN0007-ITSM-PARQUET-RUN0005.parquet'\n",
    "CONTAINER_NAME = 'itops'\n",
    "ACCOUNT_NAME = 'stgtxtsql'\n",
    "blob_helper = AzureBlobHelper(account_name= ACCOUNT_NAME,\n",
    "                              container_name= CONTAINER_NAME,\n",
    "                              account_key=CONFIGS.AZURE_BLOB_STORAGE_KEY)\n",
    "file_helper = ParquetHelper(azure_blob_helper=blob_helper)\n",
    "df = file_helper.read_file(FILENAME)"
   ]
  },
  {
   "cell_type": "code",
   "execution_count": null,
   "metadata": {},
   "outputs": [],
   "source": [
    "df.columns"
   ]
  },
  {
   "cell_type": "code",
   "execution_count": null,
   "metadata": {},
   "outputs": [],
   "source": [
    "df[\"CLUSTER_NAMES\"].value_counts()"
   ]
  }
 ],
 "metadata": {
  "kernelspec": {
   "display_name": ".venv",
   "language": "python",
   "name": "python3"
  },
  "language_info": {
   "codemirror_mode": {
    "name": "ipython",
    "version": 3
   },
   "file_extension": ".py",
   "mimetype": "text/x-python",
   "name": "python",
   "nbconvert_exporter": "python",
   "pygments_lexer": "ipython3",
   "version": "3.11.6"
  }
 },
 "nbformat": 4,
 "nbformat_minor": 2
}
