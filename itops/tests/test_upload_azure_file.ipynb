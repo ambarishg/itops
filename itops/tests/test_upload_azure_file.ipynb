{
 "cells": [
  {
   "cell_type": "code",
   "execution_count": 1,
   "metadata": {},
   "outputs": [
    {
     "name": "stdout",
     "output_type": "stream",
     "text": [
      "True\n"
     ]
    }
   ],
   "source": [
    "import sys\n",
    "sys.path.append(\"../../\")\n",
    "from itops.storage.azure_blob.azure_blob_helper import AzureBlobHelper\n",
    "from itops.storage.azure_blob.csv_helper import CSVHelper\n",
    "from itops.config.configs import CONFIGS\n",
    "import pandas as pd"
   ]
  },
  {
   "cell_type": "code",
   "execution_count": 2,
   "metadata": {},
   "outputs": [],
   "source": [
    "FILENAME = 'ITSM_Data-RUN001-ITSM-PARQUET.parquet'\n",
    "CONTAINER_NAME = 'itops'\n",
    "ACCOUNT_NAME = 'stgtxtsql'\n",
    "blob_helper = AzureBlobHelper(account_name= ACCOUNT_NAME,\n",
    "                              container_name= CONTAINER_NAME,\n",
    "                              account_key=CONFIGS.AZURE_BLOB_STORAGE_KEY)\n"
   ]
  },
  {
   "cell_type": "code",
   "execution_count": 3,
   "metadata": {},
   "outputs": [
    {
     "name": "stdout",
     "output_type": "stream",
     "text": [
      "COMPLETED UPLOAD of the blob\n"
     ]
    },
    {
     "data": {
      "text/plain": [
       "True"
      ]
     },
     "execution_count": 3,
     "metadata": {},
     "output_type": "execute_result"
    }
   ],
   "source": [
    "blob_helper.upload_blob_from_path(FILENAME,FILENAME)"
   ]
  },
  {
   "cell_type": "code",
   "execution_count": null,
   "metadata": {},
   "outputs": [],
   "source": []
  }
 ],
 "metadata": {
  "kernelspec": {
   "display_name": ".venv",
   "language": "python",
   "name": "python3"
  },
  "language_info": {
   "codemirror_mode": {
    "name": "ipython",
    "version": 3
   },
   "file_extension": ".py",
   "mimetype": "text/x-python",
   "name": "python",
   "nbconvert_exporter": "python",
   "pygments_lexer": "ipython3",
   "version": "3.11.6"
  }
 },
 "nbformat": 4,
 "nbformat_minor": 2
}
