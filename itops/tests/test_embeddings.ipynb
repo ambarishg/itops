{
 "cells": [
  {
   "cell_type": "code",
   "execution_count": null,
   "metadata": {},
   "outputs": [],
   "source": [
    "import sys\n",
    "sys.path.append(\"../../\")"
   ]
  },
  {
   "cell_type": "code",
   "execution_count": null,
   "metadata": {},
   "outputs": [],
   "source": [
    "import pandas as pd\n",
    "import numpy as np\n",
    "from sklearn.cluster import KMeans\n",
    "from itops.config.configs import CONFIGS"
   ]
  },
  {
   "cell_type": "code",
   "execution_count": null,
   "metadata": {},
   "outputs": [],
   "source": [
    "df_themes = pd.read_csv(\"ITSM_Data_THEMES_ONLY.csv\")"
   ]
  },
  {
   "cell_type": "code",
   "execution_count": null,
   "metadata": {},
   "outputs": [],
   "source": [
    "from sentence_transformers import SentenceTransformer\n",
    "MODEL_NAME = \"all-MiniLM-L6-v2\""
   ]
  },
  {
   "cell_type": "code",
   "execution_count": null,
   "metadata": {},
   "outputs": [],
   "source": [
    "def get_embedding_query_vector(query,model_name):\n",
    "        \"\"\"Get the vector of the query\n",
    "\n",
    "        Args:\n",
    "            query (string): user input\n",
    "\n",
    "        Returns:\n",
    "            _type_: vector of the query\n",
    "        \"\"\"\n",
    "        model = SentenceTransformer(model_name)\n",
    "        query_vector = model.encode(query)\n",
    "        return query_vector"
   ]
  },
  {
   "cell_type": "code",
   "execution_count": null,
   "metadata": {},
   "outputs": [],
   "source": [
    "len(df_themes)"
   ]
  },
  {
   "cell_type": "code",
   "execution_count": null,
   "metadata": {},
   "outputs": [],
   "source": [
    "embedding_list = []\n",
    "for i in range(len(df_themes)):\n",
    "    content = df_themes.iloc[i][\"themes\"]\n",
    "    embedding = get_embedding_query_vector(content,MODEL_NAME)\n",
    "    embedding_list.append(embedding)\n",
    "    print(f\"Completed EMBEDDING  {i+1} ROW\")"
   ]
  },
  {
   "cell_type": "code",
   "execution_count": null,
   "metadata": {},
   "outputs": [],
   "source": [
    "type(embedding_list)"
   ]
  },
  {
   "cell_type": "code",
   "execution_count": null,
   "metadata": {},
   "outputs": [],
   "source": [
    "df_themes[\"embeddings\"] = embedding_list"
   ]
  },
  {
   "cell_type": "code",
   "execution_count": null,
   "metadata": {},
   "outputs": [],
   "source": [
    "kmeans = KMeans(n_clusters=5, random_state=0)\n",
    "embedding_array = np.array(df_themes[\"embeddings\"].tolist())\n",
    "\n",
    "kmeans.fit(embedding_array)"
   ]
  },
  {
   "cell_type": "code",
   "execution_count": null,
   "metadata": {},
   "outputs": [],
   "source": [
    "labels = kmeans.labels_\n",
    "df_themes[\"CLUSTERS\"] = labels\n",
    "df_themes.to_csv(\"CLUSTERS001.csv\",index = False)"
   ]
  },
  {
   "cell_type": "code",
   "execution_count": null,
   "metadata": {},
   "outputs": [],
   "source": [
    "num_clusters = 5\n",
    "df = df_themes\n",
    "user_input = \"Please extract the theme of the provided context in Maximum 5 words\"\n"
   ]
  },
  {
   "cell_type": "code",
   "execution_count": null,
   "metadata": {},
   "outputs": [],
   "source": [
    "from itops.llm.azureopenaimanager.azure_open_ai_helper import AzureOpenAIManager\n",
    "azure_open_ai_helper = AzureOpenAIManager(endpoint=CONFIGS.AZURE_OPENAI_ENDPOINT,\n",
    "                                          api_key =CONFIGS.AZURE_OPENAI_API_KEY,\n",
    "                                          deployment_id=CONFIGS.AZURE_OPENAI_DEPLOYMENT_ID,\n",
    "                    api_version=\"2023-05-15\")"
   ]
  },
  {
   "cell_type": "code",
   "execution_count": null,
   "metadata": {},
   "outputs": [],
   "source": [
    "cluster_name_list = []\n",
    "for i in range(num_clusters):\n",
    "    df_cluster = df[df[\"CLUSTERS\"] == i]\n",
    "    full_content = \"\"\n",
    "    for j in range(len(df_cluster)):\n",
    "        content = df_cluster.iloc[j][\"Text\"]\n",
    "        full_content = full_content + str(content) + \" \\n \"\n",
    "    \n",
    "    cluster_name = azure_open_ai_helper.generate_reply_from_context(user_input, \n",
    "                                                            full_content, \n",
    "                                                            conversation=[])\n",
    "    cluster_name_list.append(cluster_name[0])\n",
    "    cluster_name =\"\"\n",
    "    print(f\"Completed CLUSTERING PART 1 {i+1} ROW\")\n"
   ]
  },
  {
   "cell_type": "code",
   "execution_count": null,
   "metadata": {},
   "outputs": [],
   "source": [
    "cluster_name_list"
   ]
  },
  {
   "cell_type": "code",
   "execution_count": null,
   "metadata": {},
   "outputs": [],
   "source": [
    "cluster_number_list= []\n",
    "for i in range(len(cluster_name_list)):\n",
    "    cluster_number_list.append(i)\n",
    "df_clusters = pd.DataFrame()\n",
    "df_clusters[\"CLUSTERS\"] = cluster_number_list\n",
    "df_clusters[\"CLUSTER_NAMES\"] = cluster_name_list"
   ]
  },
  {
   "cell_type": "code",
   "execution_count": null,
   "metadata": {},
   "outputs": [],
   "source": [
    "df_clusters"
   ]
  },
  {
   "cell_type": "code",
   "execution_count": null,
   "metadata": {},
   "outputs": [],
   "source": [
    "df.columns"
   ]
  },
  {
   "cell_type": "code",
   "execution_count": null,
   "metadata": {},
   "outputs": [],
   "source": [
    "df_all = df.merge(df_clusters)\n",
    "print(f\"Completed CLUSTERING FINAL\")"
   ]
  },
  {
   "cell_type": "code",
   "execution_count": null,
   "metadata": {},
   "outputs": [],
   "source": [
    "df_all"
   ]
  }
 ],
 "metadata": {
  "kernelspec": {
   "display_name": ".venv",
   "language": "python",
   "name": "python3"
  },
  "language_info": {
   "codemirror_mode": {
    "name": "ipython",
    "version": 3
   },
   "file_extension": ".py",
   "mimetype": "text/x-python",
   "name": "python",
   "nbconvert_exporter": "python",
   "pygments_lexer": "ipython3",
   "version": "3.11.6"
  }
 },
 "nbformat": 4,
 "nbformat_minor": 2
}
