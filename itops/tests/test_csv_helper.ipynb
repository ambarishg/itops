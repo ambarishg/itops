{
 "cells": [
  {
   "cell_type": "code",
   "execution_count": null,
   "metadata": {},
   "outputs": [],
   "source": [
    "import sys\n",
    "sys.path.append(\"../../\")"
   ]
  },
  {
   "cell_type": "code",
   "execution_count": null,
   "metadata": {},
   "outputs": [],
   "source": [
    "user_input = \"Please extract the theme of the provided context in Maximum 5 words\""
   ]
  },
  {
   "cell_type": "code",
   "execution_count": null,
   "metadata": {},
   "outputs": [],
   "source": [
    "from itops.storage.azure_blob.azure_blob_helper import AzureBlobHelper\n",
    "from itops.storage.azure_blob.csv_helper import CSVHelper\n",
    "from sentence_transformers import SentenceTransformer\n",
    "from sklearn.cluster import KMeans\n",
    "import pandas as pd\n",
    "from itops.db.mysql.mysqlhelper import MySQLHelper\n",
    "from itops.config.configs import CONFIGS"
   ]
  },
  {
   "cell_type": "code",
   "execution_count": null,
   "metadata": {},
   "outputs": [],
   "source": [
    "mysql_helper = MySQLHelper(CONFIGS.HOST,\n",
    "                           CONFIGS.USERNAME_MYSQL,\n",
    "                           CONFIGS.PASSWORD, \"itops\")"
   ]
  },
  {
   "cell_type": "code",
   "execution_count": null,
   "metadata": {},
   "outputs": [],
   "source": [
    "print(CONFIGS.AZURE_BLOB_STORAGE_KEY)\n",
    "print(CONFIGS.AZURE_BLOB_STORAGE_CONTAINER)\n",
    "print(CONFIGS.AZURE_BLOB_STORAGE_ACCOUNT)"
   ]
  },
  {
   "cell_type": "code",
   "execution_count": null,
   "metadata": {},
   "outputs": [],
   "source": [
    "filename = \"ITSM_Data.csv\"\n",
    "num_clusters = 4  # Define the number of clusters"
   ]
  },
  {
   "cell_type": "code",
   "execution_count": null,
   "metadata": {},
   "outputs": [],
   "source": [
    "azure_blob_helper = AzureBlobHelper(CONFIGS.AZURE_BLOB_STORAGE_ACCOUNT,\n",
    "                                                      CONFIGS.AZURE_BLOB_STORAGE_KEY,\n",
    "                                                      CONFIGS.AZURE_BLOB_STORAGE_CONTAINER)"
   ]
  },
  {
   "cell_type": "code",
   "execution_count": null,
   "metadata": {},
   "outputs": [],
   "source": [
    "azure_blob_helper.list_blob()"
   ]
  },
  {
   "cell_type": "code",
   "execution_count": null,
   "metadata": {},
   "outputs": [],
   "source": [
    "csv_helper = CSVHelper(azure_blob_helper)\n",
    "df = csv_helper.read_file(filename)"
   ]
  },
  {
   "cell_type": "code",
   "execution_count": null,
   "metadata": {},
   "outputs": [],
   "source": [
    "df.columns"
   ]
  },
  {
   "cell_type": "code",
   "execution_count": null,
   "metadata": {},
   "outputs": [],
   "source": [
    "df.loc[1][\"Text\"]"
   ]
  },
  {
   "cell_type": "code",
   "execution_count": null,
   "metadata": {},
   "outputs": [],
   "source": [
    "from itops.llm.azureopenaimanager.azure_open_ai_helper import AzureOpenAIManager"
   ]
  },
  {
   "cell_type": "code",
   "execution_count": null,
   "metadata": {},
   "outputs": [],
   "source": [
    "azure_open_ai_helper = AzureOpenAIManager(endpoint=CONFIGS.AZURE_OPENAI_ENDPOINT,\n",
    "                                          api_key =CONFIGS.AZURE_OPENAI_API_KEY,\n",
    "                                          deployment_id=CONFIGS.AZURE_OPENAI_DEPLOYMENT_ID,\n",
    "                    api_version=\"2023-05-15\")"
   ]
  },
  {
   "cell_type": "code",
   "execution_count": null,
   "metadata": {},
   "outputs": [],
   "source": [
    "content = df.iloc[15][\"Text\"]\n",
    "print(content)\n",
    "print(str(content))"
   ]
  },
  {
   "cell_type": "code",
   "execution_count": null,
   "metadata": {},
   "outputs": [],
   "source": [
    "reply =azure_open_ai_helper.generate_reply_from_context(user_input, content, conversation=[])"
   ]
  },
  {
   "cell_type": "code",
   "execution_count": null,
   "metadata": {},
   "outputs": [],
   "source": [
    "reply[0]"
   ]
  },
  {
   "cell_type": "code",
   "execution_count": null,
   "metadata": {},
   "outputs": [],
   "source": [
    "reply_list = []\n",
    "for i in range(len(df)):\n",
    "    content = df.iloc[i][\"Text\"]\n",
    "    content = str(content)\n",
    "    reply = azure_open_ai_helper.generate_reply_from_context(user_input, \n",
    "                                                             content, \n",
    "                                                             conversation=[])\n",
    "    reply_list.append(reply[0])\n",
    "    reply =\"\"\n",
    "    print(f\"Completed {i+1} ROW\")"
   ]
  },
  {
   "cell_type": "code",
   "execution_count": null,
   "metadata": {},
   "outputs": [],
   "source": [
    "df[\"themes\"] = reply_list"
   ]
  },
  {
   "cell_type": "code",
   "execution_count": null,
   "metadata": {},
   "outputs": [],
   "source": [
    "THEMES_FILE = filename.split(\".\")[0] +\"_THEMES_ONLY\" + \".\" + filename.split(\".\")[1]"
   ]
  },
  {
   "cell_type": "code",
   "execution_count": null,
   "metadata": {},
   "outputs": [],
   "source": [
    "df.to_csv(THEMES_FILE,index = False)"
   ]
  },
  {
   "cell_type": "code",
   "execution_count": null,
   "metadata": {},
   "outputs": [],
   "source": [
    "df_new = pd.read_csv(THEMES_FILE)"
   ]
  },
  {
   "cell_type": "code",
   "execution_count": null,
   "metadata": {},
   "outputs": [],
   "source": [
    "df_new.columns"
   ]
  },
  {
   "cell_type": "code",
   "execution_count": null,
   "metadata": {},
   "outputs": [],
   "source": [
    "df_new[\"themes\"]"
   ]
  },
  {
   "cell_type": "markdown",
   "metadata": {},
   "source": [
    "# Create Embeddings for the Themes"
   ]
  },
  {
   "cell_type": "code",
   "execution_count": null,
   "metadata": {},
   "outputs": [],
   "source": [
    "MODEL_NAME = \"all-MiniLM-L6-v2\""
   ]
  },
  {
   "cell_type": "code",
   "execution_count": null,
   "metadata": {},
   "outputs": [],
   "source": [
    "def get_embedding_query_vector(query,model_name):\n",
    "    \"\"\"Get the vector of the query\n",
    "\n",
    "    Args:\n",
    "        query (string): user input\n",
    "\n",
    "    Returns:\n",
    "        _type_: vector of the query\n",
    "    \"\"\"\n",
    "    model = SentenceTransformer(model_name)\n",
    "    query_vector = model.encode(query)\n",
    "    return query_vector"
   ]
  },
  {
   "cell_type": "code",
   "execution_count": null,
   "metadata": {},
   "outputs": [],
   "source": [
    "embedding_list = []\n",
    "df = df_new\n",
    "for i in range(len(df)):\n",
    "    content = df.iloc[i][\"themes\"]\n",
    "    embedding = get_embedding_query_vector(content,MODEL_NAME)\n",
    "    embedding_list.append(embedding)\n",
    "    print(f\"Completed {i+1} ROW\")"
   ]
  },
  {
   "cell_type": "code",
   "execution_count": null,
   "metadata": {},
   "outputs": [],
   "source": [
    "len(embedding_list)"
   ]
  },
  {
   "cell_type": "code",
   "execution_count": null,
   "metadata": {},
   "outputs": [],
   "source": [
    "df[\"embedding\"] = embedding_list"
   ]
  },
  {
   "cell_type": "code",
   "execution_count": null,
   "metadata": {},
   "outputs": [],
   "source": [
    "df.head()"
   ]
  },
  {
   "cell_type": "markdown",
   "metadata": {},
   "source": [
    "## Clustering of embeddings"
   ]
  },
  {
   "cell_type": "code",
   "execution_count": null,
   "metadata": {},
   "outputs": [],
   "source": [
    "\n",
    "kmeans = KMeans(n_clusters=num_clusters, random_state=0)\n",
    "kmeans.fit(embedding_list)"
   ]
  },
  {
   "cell_type": "code",
   "execution_count": null,
   "metadata": {},
   "outputs": [],
   "source": [
    "labels = kmeans.labels_"
   ]
  },
  {
   "cell_type": "code",
   "execution_count": null,
   "metadata": {},
   "outputs": [],
   "source": [
    "len(labels)"
   ]
  },
  {
   "cell_type": "code",
   "execution_count": null,
   "metadata": {},
   "outputs": [],
   "source": [
    "df[\"CLUSTERS\"] = labels"
   ]
  },
  {
   "cell_type": "code",
   "execution_count": null,
   "metadata": {},
   "outputs": [],
   "source": [
    "df"
   ]
  },
  {
   "cell_type": "code",
   "execution_count": null,
   "metadata": {},
   "outputs": [],
   "source": [
    "df[\"CLUSTERS\"].value_counts()"
   ]
  },
  {
   "cell_type": "code",
   "execution_count": null,
   "metadata": {},
   "outputs": [],
   "source": [
    "df[df[\"CLUSTERS\"] == 0]"
   ]
  },
  {
   "cell_type": "code",
   "execution_count": null,
   "metadata": {},
   "outputs": [],
   "source": [
    "cluster_name_list = []\n",
    "for i in range(num_clusters):\n",
    "    df_cluster = df[df[\"CLUSTERS\"] == i]\n",
    "    full_content = \"\"\n",
    "    for j in range(len(df_cluster)):\n",
    "        content = df_cluster.iloc[j][\"Text\"]\n",
    "        full_content = full_content + str(content) + \" \\n \"\n",
    "    \n",
    "    cluster_name = azure_open_ai_helper.generate_reply_from_context(user_input, \n",
    "                                                             full_content, \n",
    "                                                             conversation=[])\n",
    "    cluster_name_list.append(cluster_name[0])\n",
    "    cluster_name =\"\"\n",
    "    print(f\"Completed {i+1} ROW\")\n"
   ]
  },
  {
   "cell_type": "code",
   "execution_count": null,
   "metadata": {},
   "outputs": [],
   "source": [
    "cluster_name_list"
   ]
  },
  {
   "cell_type": "code",
   "execution_count": null,
   "metadata": {},
   "outputs": [],
   "source": [
    "df_cluster = pd.DataFrame()"
   ]
  },
  {
   "cell_type": "code",
   "execution_count": null,
   "metadata": {},
   "outputs": [],
   "source": [
    "cluster_number_list"
   ]
  },
  {
   "cell_type": "code",
   "execution_count": null,
   "metadata": {},
   "outputs": [],
   "source": [
    "cluster_name_list"
   ]
  },
  {
   "cell_type": "code",
   "execution_count": null,
   "metadata": {},
   "outputs": [],
   "source": [
    "cluster_number_list= []\n",
    "for i in range(len(cluster_name_list)):\n",
    "    cluster_number_list.append(i)"
   ]
  },
  {
   "cell_type": "code",
   "execution_count": null,
   "metadata": {},
   "outputs": [],
   "source": [
    "df_clusters = pd.DataFrame()"
   ]
  },
  {
   "cell_type": "code",
   "execution_count": null,
   "metadata": {},
   "outputs": [],
   "source": [
    "df_clusters[\"CLUSTERS\"] = cluster_number_list"
   ]
  },
  {
   "cell_type": "code",
   "execution_count": null,
   "metadata": {},
   "outputs": [],
   "source": [
    "df_clusters"
   ]
  },
  {
   "cell_type": "code",
   "execution_count": null,
   "metadata": {},
   "outputs": [],
   "source": [
    "df_clusters[\"CLUSTER_NAMES\"] = cluster_name_list"
   ]
  },
  {
   "cell_type": "code",
   "execution_count": null,
   "metadata": {},
   "outputs": [],
   "source": [
    "df.columns"
   ]
  },
  {
   "cell_type": "code",
   "execution_count": null,
   "metadata": {},
   "outputs": [],
   "source": [
    "df_all = df.merge(df_clusters)"
   ]
  },
  {
   "cell_type": "code",
   "execution_count": null,
   "metadata": {},
   "outputs": [],
   "source": [
    "df_all.columns"
   ]
  },
  {
   "cell_type": "code",
   "execution_count": null,
   "metadata": {},
   "outputs": [],
   "source": [
    "RUN_NAME = \"ITSM-RUN0\"\n",
    "NUMBER_OF_CLUSTERS = num_clusters \n",
    "CATEGORY = \"ITSM\""
   ]
  },
  {
   "cell_type": "code",
   "execution_count": null,
   "metadata": {},
   "outputs": [],
   "source": [
    "RUN_NAME"
   ]
  },
  {
   "cell_type": "code",
   "execution_count": null,
   "metadata": {},
   "outputs": [],
   "source": [
    "FILENAME_INSIGHTS = filename.split(\".\")[0] +\"-\"+ RUN_NAME + \"-\"+ CATEGORY + \".\" + filename.split(\".\")[1]"
   ]
  },
  {
   "cell_type": "code",
   "execution_count": null,
   "metadata": {},
   "outputs": [],
   "source": [
    "df_all.to_csv(FILENAME_INSIGHTS,index = False)"
   ]
  },
  {
   "cell_type": "code",
   "execution_count": null,
   "metadata": {},
   "outputs": [],
   "source": [
    "azure_blob_helper.upload_blob_from_path(FILENAME_INSIGHTS,FILENAME_INSIGHTS)"
   ]
  },
  {
   "cell_type": "code",
   "execution_count": null,
   "metadata": {},
   "outputs": [],
   "source": [
    "NUMBER_OF_CLUSTERS = num_clusters\n",
    "CATEGORY = \"ITSM\"\n",
    "INPUT_FILE_NAME_URL = f\"{filename}\"\n",
    "FILENAME_INSIGHTS_URL = f\"{FILENAME_INSIGHTS}\"\n",
    "SUB_CLUSTER_NAME =\"\"\n",
    "PARENT_CLUSTER_NAME = \"\"\n",
    "NUMBER_OF_SUBCLUSTERS = \"\""
   ]
  },
  {
   "cell_type": "code",
   "execution_count": 23,
   "metadata": {},
   "outputs": [
    {
     "name": "stdout",
     "output_type": "stream",
     "text": [
      "Connected to MySQL database\n"
     ]
    }
   ],
   "source": [
    "mysql_helper.connect()"
   ]
  },
  {
   "cell_type": "code",
   "execution_count": null,
   "metadata": {},
   "outputs": [],
   "source": [
    "insert_query = \"\"\"\n",
    "    INSERT INTO run_log (RUN_NAME, SUB_CLUSTER_NAME, NUMBER_OF_CLUSTERS, PARENT_CLUSTER_NAME,\n",
    "                            NUMBER_OF_SUBCLUSTERS, CATEGORY, INPUT_FILE_NAME, INSIGHTS_FILE_NAME,\n",
    "                            CONTAINER_NAME,ACCOUNT_NAME)\n",
    "    VALUES (%s,%s, %s, %s, %s, %s, %s, %s,%s, %s)\n",
    "\"\"\"\n",
    "\n",
    "data = (RUN_NAME, SUB_CLUSTER_NAME, NUMBER_OF_CLUSTERS, PARENT_CLUSTER_NAME,\n",
    "                            NUMBER_OF_SUBCLUSTERS, CATEGORY, \n",
    "                            INPUT_FILE_NAME_URL, FILENAME_INSIGHTS_URL,\n",
    "                            CONFIGS.AZURE_BLOB_STORAGE_CONTAINER,\n",
    "                            CONFIGS.AZURE_BLOB_STORAGE_ACCOUNT)"
   ]
  },
  {
   "cell_type": "code",
   "execution_count": 26,
   "metadata": {},
   "outputs": [
    {
     "data": {
      "text/plain": [
       "0"
      ]
     },
     "execution_count": 26,
     "metadata": {},
     "output_type": "execute_result"
    }
   ],
   "source": [
    "mysql_helper.execute_query(insert_query, data)"
   ]
  },
  {
   "cell_type": "code",
   "execution_count": 28,
   "metadata": {},
   "outputs": [],
   "source": [
    "# Fetch and display all records to verify insertion\n",
    "select_query = \"SELECT * FROM run_log WHERE RUN_NAME = %s \"\n",
    "run_name_to_search = RUN_NAME\n",
    "records = mysql_helper.fetch_all(select_query,[run_name_to_search])"
   ]
  },
  {
   "cell_type": "code",
   "execution_count": 29,
   "metadata": {},
   "outputs": [
    {
     "name": "stdout",
     "output_type": "stream",
     "text": [
      "('ITSM-RUN0', '', '4', '', '', 'ITSM', 'https://stgtxtsql.blob.core.windows.net/itops/ITSM_Data.csv', 'https://stgtxtsql.blob.core.windows.net/itops/ITSM_Data-ITSM-RUN0-ITSM.csv', None, None)\n",
      "('ITSM-RUN0', '', '4', '', '', 'ITSM', 'ITSM_Data.csv', 'ITSM_Data-ITSM-RUN0-ITSM.csv', 'itops', 'stgtxtsql')\n"
     ]
    }
   ],
   "source": [
    "for record in records:\n",
    "    print(record)"
   ]
  },
  {
   "cell_type": "code",
   "execution_count": null,
   "metadata": {},
   "outputs": [],
   "source": []
  }
 ],
 "metadata": {
  "kernelspec": {
   "display_name": ".venv",
   "language": "python",
   "name": "python3"
  },
  "language_info": {
   "codemirror_mode": {
    "name": "ipython",
    "version": 3
   },
   "file_extension": ".py",
   "mimetype": "text/x-python",
   "name": "python",
   "nbconvert_exporter": "python",
   "pygments_lexer": "ipython3",
   "version": "3.11.6"
  }
 },
 "nbformat": 4,
 "nbformat_minor": 2
}
