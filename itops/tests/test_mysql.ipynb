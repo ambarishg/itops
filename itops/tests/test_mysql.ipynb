{
 "cells": [
  {
   "cell_type": "code",
   "execution_count": null,
   "metadata": {},
   "outputs": [],
   "source": [
    "import sys\n",
    "sys.path.append(\"../../\")\n",
    "\n",
    "from itops.db.mysql.mysqlhelper import MySQLHelper\n",
    "from itops.config.configs import CONFIGS\n",
    "\n",
    "mysql_helper = MySQLHelper(CONFIGS.HOST,\n",
    "                           CONFIGS.USERNAME_MYSQL,\n",
    "                           CONFIGS.PASSWORD, \"itops\")"
   ]
  },
  {
   "cell_type": "code",
   "execution_count": null,
   "metadata": {},
   "outputs": [],
   "source": [
    "mysql_helper.connect()"
   ]
  },
  {
   "cell_type": "code",
   "execution_count": null,
   "metadata": {},
   "outputs": [],
   "source": [
    "NUMBER_OF_CLUSTERS = num_clusters = 10\n",
    "CATEGORY = category_name = \"CAT001\"\n",
    "INPUT_FILE_NAME = input_file_name =\"MYFILE.CSV\"\n",
    "INSIGHTS_FILE_NAME = file_name_insights = \"MYINSIGHTS.CSV\"\n",
    "SUB_CLUSTER_NAME =None\n",
    "PARENT_CLUSTER_NAME = None\n",
    "NUMBER_OF_SUBCLUSTERS = None\n",
    "run_name = \"RUN000001\""
   ]
  },
  {
   "cell_type": "code",
   "execution_count": null,
   "metadata": {},
   "outputs": [],
   "source": [
    "def insert_run_log(run_name, \n",
    "                       NUMBER_OF_CLUSTERS,\n",
    "                         CATEGORY, \n",
    "                         INPUT_FILE_NAME, \n",
    "                         INSIGHTS_FILE_NAME, \n",
    "                         SUB_CLUSTER_NAME, \n",
    "                         PARENT_CLUSTER_NAME, \n",
    "                         NUMBER_OF_SUBCLUSTERS):\n",
    "        \n",
    "        mysql_helper.connect()\n",
    "        print(\"CONNECTED to MYSQL\")\n",
    "\n",
    "        insert_query = \"\"\"\n",
    "    INSERT INTO run_log (RUN_NAME, SUB_CLUSTER_NAME, NUMBER_OF_CLUSTERS, PARENT_CLUSTER_NAME,\n",
    "                            NUMBER_OF_SUBCLUSTERS, CATEGORY, INPUT_FILE_NAME, INSIGHTS_FILE_NAME,\n",
    "                            CONTAINER_NAME,ACCOUNT_NAME)\n",
    "    VALUES (%s,%s, %s, %s, %s, %s, %s, %s,%s, %s)\n",
    "    \"\"\"\n",
    "        \n",
    "#         insert_query = \"\"\"\n",
    "#     INSERT INTO run_log (RUN_NAME, \n",
    "#     SUB_CLUSTER_NAME, \n",
    "#     NUMBER_OF_CLUSTERS, \n",
    "#     PARENT_CLUSTER_NAME,\n",
    "#     NUMBER_OF_SUBCLUSTERS,\n",
    "#       CATEGORY, \n",
    "#       INPUT_FILE_NAME, \n",
    "#       INSIGHTS_FILE_NAME,\n",
    "#  CONTAINER_NAME,ACCOUNT_NAME)\n",
    "#     VALUES (?,?,?,?,?,?,?,?,?,?)\n",
    "#     \"\"\"\n",
    "        data = (run_name, SUB_CLUSTER_NAME, NUMBER_OF_CLUSTERS, PARENT_CLUSTER_NAME,\n",
    "                            NUMBER_OF_SUBCLUSTERS, CATEGORY, \n",
    "                            INPUT_FILE_NAME, INSIGHTS_FILE_NAME,\n",
    "                            CONFIGS.AZURE_BLOB_STORAGE_CONTAINER,\n",
    "                            CONFIGS.AZURE_BLOB_STORAGE_ACCOUNT)\n",
    "        \n",
    "        mysql_helper.execute_query(insert_query, data)\n",
    "        mysql_helper.close_connection()"
   ]
  },
  {
   "cell_type": "code",
   "execution_count": null,
   "metadata": {},
   "outputs": [],
   "source": [
    "insert_run_log(run_name, \n",
    "                       NUMBER_OF_CLUSTERS,\n",
    "                         CATEGORY, \n",
    "                         INPUT_FILE_NAME, \n",
    "                         INSIGHTS_FILE_NAME, \n",
    "                         SUB_CLUSTER_NAME, \n",
    "                         PARENT_CLUSTER_NAME, \n",
    "                         NUMBER_OF_SUBCLUSTERS)"
   ]
  },
  {
   "cell_type": "code",
   "execution_count": null,
   "metadata": {},
   "outputs": [],
   "source": [
    "def insert_cluster_data(RUN_NAME, \n",
    "                         CATEGORY, \n",
    "                         INPUT_FILE_NAME, \n",
    "                         INSIGHTS_FILE_NAME, \n",
    "                         CLUSTER_NAME, \n",
    "                         PARENT_CLUSTER_NAME):\n",
    "        \n",
    "        mysql_helper.connect()\n",
    "        print(\"CONNECTED to MYSQL\")\n",
    "\n",
    "        insert_query = \"\"\"\n",
    "    INSERT INTO run_log (RUN_NAME, \n",
    "                         CATEGORY, \n",
    "                         INPUT_FILE_NAME, \n",
    "                         INSIGHTS_FILE_NAME, \n",
    "                         CLUSTER_NAME, \n",
    "                         PARENT_CLUSTER_NAME)\n",
    "    VALUES (%s,%s, %s, %s, %s, %s)\n",
    "    \"\"\"\n",
    "        data = (RUN_NAME, \n",
    "                CATEGORY, \n",
    "                INPUT_FILE_NAME, \n",
    "                INSIGHTS_FILE_NAME, \n",
    "                CLUSTER_NAME, \n",
    "                PARENT_CLUSTER_NAME)\n",
    "        \n",
    "        mysql_helper.execute_query(insert_query, data)\n",
    "        mysql_helper.close_connection()"
   ]
  }
 ],
 "metadata": {
  "kernelspec": {
   "display_name": ".venv",
   "language": "python",
   "name": "python3"
  },
  "language_info": {
   "codemirror_mode": {
    "name": "ipython",
    "version": 3
   },
   "file_extension": ".py",
   "mimetype": "text/x-python",
   "name": "python",
   "nbconvert_exporter": "python",
   "pygments_lexer": "ipython3",
   "version": "3.11.6"
  }
 },
 "nbformat": 4,
 "nbformat_minor": 2
}
