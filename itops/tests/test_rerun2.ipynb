{
 "cells": [
  {
   "cell_type": "code",
   "execution_count": 1,
   "metadata": {},
   "outputs": [
    {
     "name": "stderr",
     "output_type": "stream",
     "text": [
      "c:\\Ambarish\\itops\\.venv\\Lib\\site-packages\\sentence_transformers\\cross_encoder\\CrossEncoder.py:13: TqdmWarning: IProgress not found. Please update jupyter and ipywidgets. See https://ipywidgets.readthedocs.io/en/stable/user_install.html\n",
      "  from tqdm.autonotebook import tqdm, trange\n"
     ]
    },
    {
     "name": "stdout",
     "output_type": "stream",
     "text": [
      "True\n"
     ]
    }
   ],
   "source": [
    "import sys\n",
    "sys.path.append(\"../../\")\n",
    "\n",
    "from itops.storage.azure_blob.azure_blob_helper import AzureBlobHelper\n",
    "from itops.storage.azure_blob.csv_helper import CSVHelper\n",
    "from sentence_transformers import SentenceTransformer\n",
    "from sklearn.cluster import KMeans\n",
    "import pandas as pd\n",
    "import numpy as np\n",
    "from itops.db.mysql.mysqlhelper import MySQLHelper\n",
    "from itops.llm.azureopenaimanager.azure_open_ai_helper import AzureOpenAIManager\n",
    "from itops.config.configs import CONFIGS\n",
    "mysql_helper = MySQLHelper(CONFIGS.HOST,\n",
    "                           CONFIGS.USERNAME_MYSQL,\n",
    "                           CONFIGS.PASSWORD, \"itops\")"
   ]
  },
  {
   "cell_type": "code",
   "execution_count": 2,
   "metadata": {},
   "outputs": [],
   "source": [
    "description_column_name = \"Text\"\n",
    "MODEL_NAME = \"all-MiniLM-L6-v2\"\n",
    "CATEGORY = \"ITSM-PARQUET\"\n",
    "run_name = \"RUN0008\"\n",
    "user_input = \"Please extract the theme of the provided context in Maximum 5 words\"\n",
    "NUM_CLUSTERS = 8"
   ]
  },
  {
   "cell_type": "code",
   "execution_count": 3,
   "metadata": {},
   "outputs": [],
   "source": [
    "from itops.runmanager.runmamanger import RunManager"
   ]
  },
  {
   "cell_type": "code",
   "execution_count": 4,
   "metadata": {},
   "outputs": [],
   "source": [
    "run_manager = RunManager(description_column_name=description_column_name,\n",
    "                         embedding_model_name=MODEL_NAME)"
   ]
  },
  {
   "cell_type": "code",
   "execution_count": 5,
   "metadata": {},
   "outputs": [
    {
     "name": "stdout",
     "output_type": "stream",
     "text": [
      "SELECT INSIGHTS_FILE_NAME,CONTAINER_NAME,ACCOUNT_NAME FROM run_log WHERE CATEGORY = %s             AND PARENT_CLUSTER_NAME IS NULL \n",
      "Connected to MySQL database\n",
      "MySQL connection is closed\n",
      "[('ITSM_Data-RUN0013-ITSM-PARQUET.csv', 'itops', 'stgtxtsql'), ('ITSM_Data-RUN0013-ITSM-PARQUET-RUN0014-ITSM-PARQUET.csv', 'itops', 'stgtxtsql'), ('ITSM_Data-RUN0013-ITSM-PARQUET-RUN0011.csv', 'itops', 'stgtxtsql'), ('ITSM_Data-RUN0013-ITSM-PARQUET-RUN00111.csv', 'itops', 'stgtxtsql'), ('ITSM_Data-RUN0013-ITSM-PARQUET-RUN001111.csv', 'itops', 'stgtxtsql'), ('ITSM_Data-RUN0013-ITSM-PARQUET-RUN0011111.csv', 'itops', 'stgtxtsql'), ('ITSM_Data-RUN0020-ITSM-PARQUET.csv', 'itops', 'stgtxtsql'), ('ITSM_Data-RUN0013-ITSM-PARQUET-RUN0012.csv', 'itops', 'stgtxtsql')]\n",
      "Completed EMBEDDING  1 ROW\n",
      "Completed EMBEDDING  2 ROW\n",
      "Completed EMBEDDING  3 ROW\n",
      "Completed EMBEDDING  4 ROW\n",
      "Completed EMBEDDING  5 ROW\n",
      "Completed EMBEDDING  6 ROW\n",
      "Completed EMBEDDING  7 ROW\n",
      "Completed EMBEDDING  8 ROW\n",
      "Completed EMBEDDING  9 ROW\n",
      "Completed EMBEDDING  10 ROW\n",
      "Completed EMBEDDING  11 ROW\n",
      "Completed EMBEDDING  12 ROW\n",
      "Completed EMBEDDING  13 ROW\n",
      "Completed EMBEDDING  14 ROW\n",
      "Completed EMBEDDING  15 ROW\n",
      "Completed EMBEDDING  16 ROW\n",
      "Completed EMBEDDING  17 ROW\n",
      "Completed EMBEDDING  18 ROW\n",
      "Completed EMBEDDING  19 ROW\n",
      "Completed EMBEDDING  20 ROW\n",
      "Completed EMBEDDING  21 ROW\n",
      "Completed EMBEDDING  22 ROW\n",
      "Completed EMBEDDING  23 ROW\n",
      "Completed EMBEDDING  24 ROW\n",
      "Completed EMBEDDING  25 ROW\n",
      "Completed EMBEDDING  26 ROW\n",
      "Completed EMBEDDING  27 ROW\n",
      "Completed EMBEDDING  28 ROW\n",
      "Completed EMBEDDING  29 ROW\n",
      "Completed EMBEDDING  30 ROW\n",
      "Completed EMBEDDING  31 ROW\n",
      "Completed EMBEDDING  32 ROW\n",
      "Completed EMBEDDING  33 ROW\n",
      "Completed EMBEDDING  34 ROW\n",
      "Completed EMBEDDING  35 ROW\n",
      "Completed EMBEDDING  36 ROW\n",
      "Completed EMBEDDING  37 ROW\n",
      "Completed EMBEDDING  38 ROW\n",
      "Completed EMBEDDING  39 ROW\n",
      "Completed EMBEDDING  40 ROW\n",
      "Completed EMBEDDING  41 ROW\n",
      "Completed EMBEDDING  42 ROW\n",
      "Completed EMBEDDING  43 ROW\n",
      "Completed EMBEDDING  44 ROW\n",
      "Completed EMBEDDING  45 ROW\n",
      "Completed EMBEDDING  46 ROW\n",
      "Completed EMBEDDING  47 ROW\n",
      "Completed EMBEDDING  48 ROW\n",
      "Completed EMBEDDING  49 ROW\n",
      "Completed EMBEDDING  50 ROW\n",
      "Completed EMBEDDING  51 ROW\n",
      "Completed EMBEDDING  52 ROW\n",
      "Completed EMBEDDING  53 ROW\n",
      "Completed EMBEDDING  54 ROW\n",
      "Completed EMBEDDING  55 ROW\n",
      "Completed EMBEDDING  56 ROW\n",
      "Completed EMBEDDING  57 ROW\n",
      "Completed EMBEDDING  58 ROW\n",
      "Completed EMBEDDING  59 ROW\n",
      "Completed EMBEDDING  60 ROW\n",
      "Completed EMBEDDING  61 ROW\n",
      "Completed EMBEDDING  62 ROW\n",
      "Completed EMBEDDING  63 ROW\n",
      "Completed EMBEDDING  64 ROW\n",
      "Completed EMBEDDING  65 ROW\n",
      "Completed EMBEDDING  66 ROW\n",
      "Completed EMBEDDING  67 ROW\n",
      "Completed EMBEDDING  68 ROW\n",
      "Completed EMBEDDING  69 ROW\n",
      "Completed EMBEDDING  70 ROW\n",
      "Completed EMBEDDING  71 ROW\n",
      "Completed EMBEDDING  72 ROW\n",
      "Completed EMBEDDING  73 ROW\n",
      "Completed EMBEDDING  74 ROW\n",
      "Completed EMBEDDING  75 ROW\n",
      "Completed EMBEDDING  76 ROW\n",
      "Completed EMBEDDING  77 ROW\n",
      "Completed EMBEDDING  78 ROW\n",
      "Completed EMBEDDING  79 ROW\n",
      "Completed EMBEDDING  80 ROW\n",
      "Completed EMBEDDING  81 ROW\n",
      "Completed EMBEDDING  82 ROW\n",
      "Completed EMBEDDING  83 ROW\n",
      "Completed EMBEDDING  84 ROW\n",
      "Completed EMBEDDING  85 ROW\n",
      "Completed EMBEDDING  86 ROW\n",
      "Completed EMBEDDING  87 ROW\n",
      "Completed EMBEDDING  88 ROW\n",
      "Completed EMBEDDING  89 ROW\n",
      "Completed EMBEDDING  90 ROW\n",
      "Completed EMBEDDING  91 ROW\n",
      "Completed EMBEDDING  92 ROW\n",
      "Completed EMBEDDING  93 ROW\n",
      "Completed EMBEDDING  94 ROW\n",
      "Completed EMBEDDING  95 ROW\n",
      "Completed EMBEDDING  96 ROW\n",
      "Completed EMBEDDING  97 ROW\n",
      "Completed EMBEDDING  98 ROW\n",
      "Completed EMBEDDING  99 ROW\n",
      "Completed EMBEDDING  100 ROW\n",
      "Completed EMBEDDING  101 ROW\n",
      "Completed EMBEDDING  102 ROW\n",
      "Completed EMBEDDING  103 ROW\n",
      "Completed EMBEDDING  104 ROW\n",
      "Completed EMBEDDING  105 ROW\n",
      "Completed EMBEDDING  106 ROW\n",
      "Completed EMBEDDING  107 ROW\n",
      "Completed EMBEDDING  108 ROW\n",
      "Completed EMBEDDING  109 ROW\n",
      "Completed EMBEDDING  110 ROW\n",
      "Completed EMBEDDING  111 ROW\n",
      "Completed EMBEDDING  112 ROW\n",
      "Completed EMBEDDING  113 ROW\n",
      "Completed EMBEDDING  114 ROW\n",
      "Completed EMBEDDING  115 ROW\n",
      "Completed EMBEDDING  116 ROW\n",
      "Completed EMBEDDING  117 ROW\n",
      "Completed EMBEDDING  118 ROW\n",
      "Completed CLUSTERING PART 1 1 ROW\n",
      "Completed CLUSTERING PART 1 2 ROW\n",
      "Completed CLUSTERING PART 1 3 ROW\n",
      "Completed CLUSTERING PART 1 4 ROW\n",
      "Completed CLUSTERING PART 1 5 ROW\n",
      "Completed CLUSTERING PART 1 6 ROW\n",
      "Completed CLUSTERING PART 1 7 ROW\n",
      "Completed CLUSTERING PART 1 8 ROW\n",
      "Completed CLUSTERING FINAL\n",
      "Connected to MySQL database\n",
      "MySQL connection is closed\n",
      "Connected to MySQL database\n",
      "CONNECTED to MYSQL\n",
      "MySQL connection is closed\n",
      "Connected to MySQL database\n",
      "CONNECTED to MYSQL\n",
      "MySQL connection is closed\n",
      "Connected to MySQL database\n",
      "CONNECTED to MYSQL\n",
      "MySQL connection is closed\n",
      "Connected to MySQL database\n",
      "CONNECTED to MYSQL\n",
      "MySQL connection is closed\n",
      "Connected to MySQL database\n",
      "CONNECTED to MYSQL\n",
      "MySQL connection is closed\n",
      "Connected to MySQL database\n",
      "CONNECTED to MYSQL\n",
      "MySQL connection is closed\n",
      "Connected to MySQL database\n",
      "CONNECTED to MYSQL\n",
      "MySQL connection is closed\n",
      "Connected to MySQL database\n",
      "CONNECTED to MYSQL\n",
      "MySQL connection is closed\n"
     ]
    }
   ],
   "source": [
    "run_manager.rerun_cluster(run_name=run_name,\n",
    "                          prompt = user_input,\n",
    "                          category_name=CATEGORY,\n",
    "                          num_clusters=NUM_CLUSTERS)"
   ]
  },
  {
   "cell_type": "code",
   "execution_count": null,
   "metadata": {},
   "outputs": [],
   "source": [
    "FILENAME = 'ITSM_Data-RUN0013-ITSM-PARQUET-RUN0012.csv'\n",
    "CONTAINER_NAME = 'itops'\n",
    "ACCOUNT_NAME = 'stgtxtsql'\n",
    "blob_helper = AzureBlobHelper(account_name= ACCOUNT_NAME,\n",
    "                              container_name= CONTAINER_NAME,\n",
    "                              account_key=CONFIGS.AZURE_BLOB_STORAGE_KEY)\n",
    "csv_helper = CSVHelper(azure_blob_helper=blob_helper)\n",
    "df = csv_helper.read_file(FILENAME)"
   ]
  },
  {
   "cell_type": "code",
   "execution_count": null,
   "metadata": {},
   "outputs": [],
   "source": [
    "df.columns"
   ]
  },
  {
   "cell_type": "code",
   "execution_count": null,
   "metadata": {},
   "outputs": [],
   "source": [
    "df[\"themes\"].unique()"
   ]
  },
  {
   "cell_type": "code",
   "execution_count": null,
   "metadata": {},
   "outputs": [],
   "source": [
    "len(df[\"CLUSTER_NAMES\"].unique())"
   ]
  },
  {
   "cell_type": "code",
   "execution_count": null,
   "metadata": {},
   "outputs": [],
   "source": [
    "df[\"CLUSTERS\"].unique()"
   ]
  },
  {
   "cell_type": "code",
   "execution_count": null,
   "metadata": {},
   "outputs": [],
   "source": [
    "CLUSTER_NAMES=df[\"CLUSTER_NAMES\"].unique()"
   ]
  },
  {
   "cell_type": "code",
   "execution_count": null,
   "metadata": {},
   "outputs": [],
   "source": [
    "CLUSTER_NAMES[0],len(CLUSTER_NAMES)"
   ]
  },
  {
   "cell_type": "code",
   "execution_count": null,
   "metadata": {},
   "outputs": [],
   "source": [
    "for cluster_name in CLUSTER_NAMES:\n",
    "    print(cluster_name)"
   ]
  },
  {
   "cell_type": "code",
   "execution_count": null,
   "metadata": {},
   "outputs": [],
   "source": [
    "df[\"CLUSTER_NAMES\"].value_counts()"
   ]
  },
  {
   "cell_type": "markdown",
   "metadata": {},
   "source": [
    "SUB CLUSTERING"
   ]
  },
  {
   "cell_type": "code",
   "execution_count": null,
   "metadata": {},
   "outputs": [],
   "source": [
    "PARENT_CLUSTER_NAME = 'CRM Installation and Issues'\n",
    "RUN_NAME = 'CRM0011'\n",
    "PARENT_RUN_NAME = run_name\n",
    "\n",
    "run_manager.rerun_sub_cluster(run_name=RUN_NAME,\n",
    "                          prompt = user_input,\n",
    "                          category_name=CATEGORY,\n",
    "                          num_clusters=3,\n",
    "                          parent_cluster_name =PARENT_CLUSTER_NAME,\n",
    "                          parent_run_name = PARENT_RUN_NAME)"
   ]
  },
  {
   "cell_type": "code",
   "execution_count": null,
   "metadata": {},
   "outputs": [],
   "source": [
    "FILENAME = 'ITSM_Data-RUN0013-ITSM-PARQUET-RUN0014-ITSM-PARQUET-DEVICE_RUN_001-ITSM-PARQUET.csv'\n",
    "CONTAINER_NAME = 'itops'\n",
    "ACCOUNT_NAME = 'stgtxtsql'\n",
    "blob_helper = AzureBlobHelper(account_name= ACCOUNT_NAME,\n",
    "                              container_name= CONTAINER_NAME,\n",
    "                              account_key=CONFIGS.AZURE_BLOB_STORAGE_KEY)\n",
    "csv_helper = CSVHelper(azure_blob_helper=blob_helper)\n",
    "df = csv_helper.read_csv(FILENAME)"
   ]
  },
  {
   "cell_type": "code",
   "execution_count": null,
   "metadata": {},
   "outputs": [],
   "source": [
    "df[\"CLUSTER_NAMES\"].value_counts()"
   ]
  },
  {
   "cell_type": "code",
   "execution_count": null,
   "metadata": {},
   "outputs": [],
   "source": []
  }
 ],
 "metadata": {
  "kernelspec": {
   "display_name": ".venv",
   "language": "python",
   "name": "python3"
  },
  "language_info": {
   "codemirror_mode": {
    "name": "ipython",
    "version": 3
   },
   "file_extension": ".py",
   "mimetype": "text/x-python",
   "name": "python",
   "nbconvert_exporter": "python",
   "pygments_lexer": "ipython3",
   "version": "3.11.6"
  }
 },
 "nbformat": 4,
 "nbformat_minor": 2
}
