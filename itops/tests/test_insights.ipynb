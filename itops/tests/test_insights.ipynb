{
 "cells": [
  {
   "cell_type": "code",
   "execution_count": 1,
   "metadata": {},
   "outputs": [
    {
     "name": "stdout",
     "output_type": "stream",
     "text": [
      "True\n"
     ]
    }
   ],
   "source": [
    "import sys\n",
    "sys.path.append(\"../../\")\n",
    "from itops.insights.run_insights import InsightsManager"
   ]
  },
  {
   "cell_type": "code",
   "execution_count": 2,
   "metadata": {},
   "outputs": [],
   "source": [
    "# Resolution / Cancellation notes\n",
    "\n",
    "im = InsightsManager()\n",
    "COL_NAME = \"Solution\"\n",
    "RUN_NAME = 'RUN0006622'\n",
    "CLUSTER_NAME = 'Computer peripherals replacement and repair'"
   ]
  },
  {
   "cell_type": "code",
   "execution_count": 3,
   "metadata": {},
   "outputs": [
    {
     "name": "stdout",
     "output_type": "stream",
     "text": [
      "SELECT             INSIGHTS_FILE_NAME             FROM cluster_data             WHERE RUN_NAME = ?             AND CLUSTER_NAME = ?\n",
      "Connected to database: itops.db\n",
      "Fetched 0 rows.\n",
      "Connection closed.\n"
     ]
    }
   ],
   "source": [
    "reply = im.get_insights_specific_attr(RUN_NAME,\n",
    "                        CLUSTER_NAME,\n",
    "                        COL_NAME,\n",
    "                        \"Please list the 5 recommended solutions from the context\")"
   ]
  },
  {
   "cell_type": "code",
   "execution_count": null,
   "metadata": {},
   "outputs": [],
   "source": [
    "from pprint import pprint\n",
    "pprint(reply)"
   ]
  },
  {
   "cell_type": "code",
   "execution_count": null,
   "metadata": {},
   "outputs": [],
   "source": [
    "COL_NAME =\"Text\""
   ]
  },
  {
   "cell_type": "code",
   "execution_count": null,
   "metadata": {},
   "outputs": [],
   "source": [
    "reply = im.get_insights_specific_attr(RUN_NAME,\n",
    "                        CLUSTER_NAME,\n",
    "                        COL_NAME,\n",
    "                        \"Please list the 5 challenges from the context\")"
   ]
  },
  {
   "cell_type": "code",
   "execution_count": null,
   "metadata": {},
   "outputs": [],
   "source": [
    "pprint(reply)"
   ]
  },
  {
   "cell_type": "code",
   "execution_count": null,
   "metadata": {},
   "outputs": [],
   "source": [
    "pprint(im.get_cluster_counts(RUN_NAME,\n",
    "                        CLUSTER_NAME,))"
   ]
  }
 ],
 "metadata": {
  "kernelspec": {
   "display_name": ".venv",
   "language": "python",
   "name": "python3"
  },
  "language_info": {
   "codemirror_mode": {
    "name": "ipython",
    "version": 3
   },
   "file_extension": ".py",
   "mimetype": "text/x-python",
   "name": "python",
   "nbconvert_exporter": "python",
   "pygments_lexer": "ipython3",
   "version": "3.11.6"
  }
 },
 "nbformat": 4,
 "nbformat_minor": 2
}
