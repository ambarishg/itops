{
 "cells": [
  {
   "cell_type": "code",
   "execution_count": 1,
   "metadata": {},
   "outputs": [
    {
     "name": "stdout",
     "output_type": "stream",
     "text": [
      "Requirement already satisfied: mysql-connector-python in c:\\ambarish\\itops\\.venv\\lib\\site-packages (from -r ../requirements.txt (line 1)) (9.1.0)\n",
      "Requirement already satisfied: python-dotenv in c:\\ambarish\\itops\\.venv\\lib\\site-packages (from -r ../requirements.txt (line 2)) (1.0.1)\n",
      "Requirement already satisfied: pydantic~=2.7.3 in c:\\ambarish\\itops\\.venv\\lib\\site-packages (from -r ../requirements.txt (line 3)) (2.7.4)\n",
      "Requirement already satisfied: pydantic-settings~=2.2.1 in c:\\ambarish\\itops\\.venv\\lib\\site-packages (from -r ../requirements.txt (line 4)) (2.2.1)\n",
      "Requirement already satisfied: openai in c:\\ambarish\\itops\\.venv\\lib\\site-packages (from -r ../requirements.txt (line 5)) (1.53.0)\n",
      "Requirement already satisfied: pandas in c:\\ambarish\\itops\\.venv\\lib\\site-packages (from -r ../requirements.txt (line 6)) (2.2.3)\n",
      "Requirement already satisfied: azure-storage-blob==12.19.0 in c:\\ambarish\\itops\\.venv\\lib\\site-packages (from -r ../requirements.txt (line 7)) (12.19.0)\n",
      "Requirement already satisfied: sentence-transformers in c:\\ambarish\\itops\\.venv\\lib\\site-packages (from -r ../requirements.txt (line 8)) (3.2.1)\n",
      "Requirement already satisfied: scikit-learn in c:\\ambarish\\itops\\.venv\\lib\\site-packages (from -r ../requirements.txt (line 9)) (1.5.2)\n",
      "Requirement already satisfied: duckdb in c:\\ambarish\\itops\\.venv\\lib\\site-packages (from -r ../requirements.txt (line 10)) (1.1.2)\n",
      "Requirement already satisfied: pyarrow in c:\\ambarish\\itops\\.venv\\lib\\site-packages (from -r ../requirements.txt (line 11)) (18.0.0)\n",
      "Collecting fastapi (from -r ../requirements.txt (line 12))\n",
      "  Downloading fastapi-0.115.5-py3-none-any.whl.metadata (27 kB)\n",
      "Collecting fastapi-cors (from -r ../requirements.txt (line 13))\n",
      "  Downloading fastapi_cors-0.0.6-py3-none-any.whl.metadata (4.2 kB)\n",
      "Collecting uvicorn (from -r ../requirements.txt (line 14))\n",
      "  Downloading uvicorn-0.32.0-py3-none-any.whl.metadata (6.6 kB)\n",
      "Requirement already satisfied: azure-core<2.0.0,>=1.28.0 in c:\\ambarish\\itops\\.venv\\lib\\site-packages (from azure-storage-blob==12.19.0->-r ../requirements.txt (line 7)) (1.32.0)\n",
      "Requirement already satisfied: cryptography>=2.1.4 in c:\\ambarish\\itops\\.venv\\lib\\site-packages (from azure-storage-blob==12.19.0->-r ../requirements.txt (line 7)) (43.0.3)\n",
      "Requirement already satisfied: typing-extensions>=4.3.0 in c:\\ambarish\\itops\\.venv\\lib\\site-packages (from azure-storage-blob==12.19.0->-r ../requirements.txt (line 7)) (4.12.2)\n",
      "Requirement already satisfied: isodate>=0.6.1 in c:\\ambarish\\itops\\.venv\\lib\\site-packages (from azure-storage-blob==12.19.0->-r ../requirements.txt (line 7)) (0.7.2)\n",
      "Requirement already satisfied: annotated-types>=0.4.0 in c:\\ambarish\\itops\\.venv\\lib\\site-packages (from pydantic~=2.7.3->-r ../requirements.txt (line 3)) (0.7.0)\n",
      "Requirement already satisfied: pydantic-core==2.18.4 in c:\\ambarish\\itops\\.venv\\lib\\site-packages (from pydantic~=2.7.3->-r ../requirements.txt (line 3)) (2.18.4)\n",
      "Requirement already satisfied: anyio<5,>=3.5.0 in c:\\ambarish\\itops\\.venv\\lib\\site-packages (from openai->-r ../requirements.txt (line 5)) (4.6.2.post1)\n",
      "Requirement already satisfied: distro<2,>=1.7.0 in c:\\ambarish\\itops\\.venv\\lib\\site-packages (from openai->-r ../requirements.txt (line 5)) (1.9.0)\n",
      "Requirement already satisfied: httpx<1,>=0.23.0 in c:\\ambarish\\itops\\.venv\\lib\\site-packages (from openai->-r ../requirements.txt (line 5)) (0.27.2)\n",
      "Requirement already satisfied: jiter<1,>=0.4.0 in c:\\ambarish\\itops\\.venv\\lib\\site-packages (from openai->-r ../requirements.txt (line 5)) (0.7.0)\n",
      "Requirement already satisfied: sniffio in c:\\ambarish\\itops\\.venv\\lib\\site-packages (from openai->-r ../requirements.txt (line 5)) (1.3.1)\n",
      "Requirement already satisfied: tqdm>4 in c:\\ambarish\\itops\\.venv\\lib\\site-packages (from openai->-r ../requirements.txt (line 5)) (4.66.6)\n",
      "Requirement already satisfied: numpy>=1.23.2 in c:\\ambarish\\itops\\.venv\\lib\\site-packages (from pandas->-r ../requirements.txt (line 6)) (2.1.3)\n",
      "Requirement already satisfied: python-dateutil>=2.8.2 in c:\\ambarish\\itops\\.venv\\lib\\site-packages (from pandas->-r ../requirements.txt (line 6)) (2.9.0.post0)\n",
      "Requirement already satisfied: pytz>=2020.1 in c:\\ambarish\\itops\\.venv\\lib\\site-packages (from pandas->-r ../requirements.txt (line 6)) (2024.2)\n",
      "Requirement already satisfied: tzdata>=2022.7 in c:\\ambarish\\itops\\.venv\\lib\\site-packages (from pandas->-r ../requirements.txt (line 6)) (2024.2)\n",
      "Requirement already satisfied: transformers<5.0.0,>=4.41.0 in c:\\ambarish\\itops\\.venv\\lib\\site-packages (from sentence-transformers->-r ../requirements.txt (line 8)) (4.46.1)\n",
      "Requirement already satisfied: torch>=1.11.0 in c:\\ambarish\\itops\\.venv\\lib\\site-packages (from sentence-transformers->-r ../requirements.txt (line 8)) (2.5.1)\n",
      "Requirement already satisfied: scipy in c:\\ambarish\\itops\\.venv\\lib\\site-packages (from sentence-transformers->-r ../requirements.txt (line 8)) (1.14.1)\n",
      "Requirement already satisfied: huggingface-hub>=0.20.0 in c:\\ambarish\\itops\\.venv\\lib\\site-packages (from sentence-transformers->-r ../requirements.txt (line 8)) (0.26.2)\n",
      "Requirement already satisfied: Pillow in c:\\ambarish\\itops\\.venv\\lib\\site-packages (from sentence-transformers->-r ../requirements.txt (line 8)) (11.0.0)\n",
      "Requirement already satisfied: joblib>=1.2.0 in c:\\ambarish\\itops\\.venv\\lib\\site-packages (from scikit-learn->-r ../requirements.txt (line 9)) (1.4.2)\n",
      "Requirement already satisfied: threadpoolctl>=3.1.0 in c:\\ambarish\\itops\\.venv\\lib\\site-packages (from scikit-learn->-r ../requirements.txt (line 9)) (3.5.0)\n",
      "Collecting starlette<0.42.0,>=0.40.0 (from fastapi->-r ../requirements.txt (line 12))\n",
      "  Downloading starlette-0.41.2-py3-none-any.whl.metadata (6.0 kB)\n",
      "Collecting environs>=9.5.0 (from fastapi-cors->-r ../requirements.txt (line 13))\n",
      "  Downloading environs-11.2.0-py3-none-any.whl.metadata (13 kB)\n",
      "Requirement already satisfied: click>=7.0 in c:\\ambarish\\itops\\.venv\\lib\\site-packages (from uvicorn->-r ../requirements.txt (line 14)) (8.1.7)\n",
      "Requirement already satisfied: h11>=0.8 in c:\\ambarish\\itops\\.venv\\lib\\site-packages (from uvicorn->-r ../requirements.txt (line 14)) (0.14.0)\n",
      "Requirement already satisfied: idna>=2.8 in c:\\ambarish\\itops\\.venv\\lib\\site-packages (from anyio<5,>=3.5.0->openai->-r ../requirements.txt (line 5)) (3.10)\n",
      "Requirement already satisfied: requests>=2.21.0 in c:\\ambarish\\itops\\.venv\\lib\\site-packages (from azure-core<2.0.0,>=1.28.0->azure-storage-blob==12.19.0->-r ../requirements.txt (line 7)) (2.32.3)\n",
      "Requirement already satisfied: six>=1.11.0 in c:\\ambarish\\itops\\.venv\\lib\\site-packages (from azure-core<2.0.0,>=1.28.0->azure-storage-blob==12.19.0->-r ../requirements.txt (line 7)) (1.16.0)\n",
      "Requirement already satisfied: colorama in c:\\ambarish\\itops\\.venv\\lib\\site-packages (from click>=7.0->uvicorn->-r ../requirements.txt (line 14)) (0.4.6)\n",
      "Requirement already satisfied: cffi>=1.12 in c:\\ambarish\\itops\\.venv\\lib\\site-packages (from cryptography>=2.1.4->azure-storage-blob==12.19.0->-r ../requirements.txt (line 7)) (1.17.1)\n",
      "Collecting marshmallow>=3.13.0 (from environs>=9.5.0->fastapi-cors->-r ../requirements.txt (line 13))\n",
      "  Downloading marshmallow-3.23.1-py3-none-any.whl.metadata (7.5 kB)\n",
      "Requirement already satisfied: certifi in c:\\ambarish\\itops\\.venv\\lib\\site-packages (from httpx<1,>=0.23.0->openai->-r ../requirements.txt (line 5)) (2024.8.30)\n",
      "Requirement already satisfied: httpcore==1.* in c:\\ambarish\\itops\\.venv\\lib\\site-packages (from httpx<1,>=0.23.0->openai->-r ../requirements.txt (line 5)) (1.0.6)\n",
      "Requirement already satisfied: filelock in c:\\ambarish\\itops\\.venv\\lib\\site-packages (from huggingface-hub>=0.20.0->sentence-transformers->-r ../requirements.txt (line 8)) (3.16.1)\n",
      "Requirement already satisfied: fsspec>=2023.5.0 in c:\\ambarish\\itops\\.venv\\lib\\site-packages (from huggingface-hub>=0.20.0->sentence-transformers->-r ../requirements.txt (line 8)) (2024.10.0)\n",
      "Requirement already satisfied: packaging>=20.9 in c:\\ambarish\\itops\\.venv\\lib\\site-packages (from huggingface-hub>=0.20.0->sentence-transformers->-r ../requirements.txt (line 8)) (24.1)\n",
      "Requirement already satisfied: pyyaml>=5.1 in c:\\ambarish\\itops\\.venv\\lib\\site-packages (from huggingface-hub>=0.20.0->sentence-transformers->-r ../requirements.txt (line 8)) (6.0.2)\n",
      "Requirement already satisfied: networkx in c:\\ambarish\\itops\\.venv\\lib\\site-packages (from torch>=1.11.0->sentence-transformers->-r ../requirements.txt (line 8)) (3.4.2)\n",
      "Requirement already satisfied: jinja2 in c:\\ambarish\\itops\\.venv\\lib\\site-packages (from torch>=1.11.0->sentence-transformers->-r ../requirements.txt (line 8)) (3.1.4)\n",
      "Requirement already satisfied: sympy==1.13.1 in c:\\ambarish\\itops\\.venv\\lib\\site-packages (from torch>=1.11.0->sentence-transformers->-r ../requirements.txt (line 8)) (1.13.1)\n",
      "Requirement already satisfied: mpmath<1.4,>=1.1.0 in c:\\ambarish\\itops\\.venv\\lib\\site-packages (from sympy==1.13.1->torch>=1.11.0->sentence-transformers->-r ../requirements.txt (line 8)) (1.3.0)\n",
      "Requirement already satisfied: regex!=2019.12.17 in c:\\ambarish\\itops\\.venv\\lib\\site-packages (from transformers<5.0.0,>=4.41.0->sentence-transformers->-r ../requirements.txt (line 8)) (2024.9.11)\n",
      "Requirement already satisfied: safetensors>=0.4.1 in c:\\ambarish\\itops\\.venv\\lib\\site-packages (from transformers<5.0.0,>=4.41.0->sentence-transformers->-r ../requirements.txt (line 8)) (0.4.5)\n",
      "Requirement already satisfied: tokenizers<0.21,>=0.20 in c:\\ambarish\\itops\\.venv\\lib\\site-packages (from transformers<5.0.0,>=4.41.0->sentence-transformers->-r ../requirements.txt (line 8)) (0.20.1)\n",
      "Requirement already satisfied: pycparser in c:\\ambarish\\itops\\.venv\\lib\\site-packages (from cffi>=1.12->cryptography>=2.1.4->azure-storage-blob==12.19.0->-r ../requirements.txt (line 7)) (2.22)\n",
      "Requirement already satisfied: charset-normalizer<4,>=2 in c:\\ambarish\\itops\\.venv\\lib\\site-packages (from requests>=2.21.0->azure-core<2.0.0,>=1.28.0->azure-storage-blob==12.19.0->-r ../requirements.txt (line 7)) (3.4.0)\n",
      "Requirement already satisfied: urllib3<3,>=1.21.1 in c:\\ambarish\\itops\\.venv\\lib\\site-packages (from requests>=2.21.0->azure-core<2.0.0,>=1.28.0->azure-storage-blob==12.19.0->-r ../requirements.txt (line 7)) (2.2.3)\n",
      "Requirement already satisfied: MarkupSafe>=2.0 in c:\\ambarish\\itops\\.venv\\lib\\site-packages (from jinja2->torch>=1.11.0->sentence-transformers->-r ../requirements.txt (line 8)) (3.0.2)\n",
      "Downloading fastapi-0.115.5-py3-none-any.whl (94 kB)\n",
      "Downloading fastapi_cors-0.0.6-py3-none-any.whl (5.0 kB)\n",
      "Downloading uvicorn-0.32.0-py3-none-any.whl (63 kB)\n",
      "Downloading environs-11.2.0-py3-none-any.whl (12 kB)\n",
      "Downloading starlette-0.41.2-py3-none-any.whl (73 kB)\n",
      "Downloading marshmallow-3.23.1-py3-none-any.whl (49 kB)\n",
      "Installing collected packages: marshmallow, uvicorn, starlette, environs, fastapi, fastapi-cors\n",
      "Successfully installed environs-11.2.0 fastapi-0.115.5 fastapi-cors-0.0.6 marshmallow-3.23.1 starlette-0.41.2 uvicorn-0.32.0\n"
     ]
    }
   ],
   "source": [
    "! pip install -r ../requirements.txt"
   ]
  }
 ],
 "metadata": {
  "kernelspec": {
   "display_name": ".venv",
   "language": "python",
   "name": "python3"
  },
  "language_info": {
   "codemirror_mode": {
    "name": "ipython",
    "version": 3
   },
   "file_extension": ".py",
   "mimetype": "text/x-python",
   "name": "python",
   "nbconvert_exporter": "python",
   "pygments_lexer": "ipython3",
   "version": "3.11.6"
  }
 },
 "nbformat": 4,
 "nbformat_minor": 2
}
