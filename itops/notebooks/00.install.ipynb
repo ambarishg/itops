{
 "cells": [
  {
   "cell_type": "code",
   "execution_count": 1,
   "metadata": {},
   "outputs": [
    {
     "name": "stdout",
     "output_type": "stream",
     "text": [
      "Requirement already satisfied: mysql-connector-python in c:\\ambarish\\itops\\.venv\\lib\\site-packages (from -r ../requirements.txt (line 1)) (9.1.0)\n",
      "Requirement already satisfied: python-dotenv in c:\\ambarish\\itops\\.venv\\lib\\site-packages (from -r ../requirements.txt (line 2)) (1.0.1)\n",
      "Requirement already satisfied: pydantic~=2.7.3 in c:\\ambarish\\itops\\.venv\\lib\\site-packages (from -r ../requirements.txt (line 3)) (2.7.4)\n",
      "Requirement already satisfied: pydantic-settings~=2.2.1 in c:\\ambarish\\itops\\.venv\\lib\\site-packages (from -r ../requirements.txt (line 4)) (2.2.1)\n",
      "Requirement already satisfied: openai in c:\\ambarish\\itops\\.venv\\lib\\site-packages (from -r ../requirements.txt (line 5)) (1.53.0)\n",
      "Requirement already satisfied: pandas in c:\\ambarish\\itops\\.venv\\lib\\site-packages (from -r ../requirements.txt (line 6)) (2.2.3)\n",
      "Requirement already satisfied: azure-storage-blob==12.19.0 in c:\\ambarish\\itops\\.venv\\lib\\site-packages (from -r ../requirements.txt (line 7)) (12.19.0)\n",
      "Requirement already satisfied: sentence-transformers in c:\\ambarish\\itops\\.venv\\lib\\site-packages (from -r ../requirements.txt (line 8)) (3.2.1)\n",
      "Requirement already satisfied: scikit-learn in c:\\ambarish\\itops\\.venv\\lib\\site-packages (from -r ../requirements.txt (line 9)) (1.5.2)\n",
      "Requirement already satisfied: duckdb in c:\\ambarish\\itops\\.venv\\lib\\site-packages (from -r ../requirements.txt (line 10)) (1.1.2)\n",
      "Requirement already satisfied: pyarrow in c:\\ambarish\\itops\\.venv\\lib\\site-packages (from -r ../requirements.txt (line 11)) (18.0.0)\n"
     ]
    },
    {
     "name": "stderr",
     "output_type": "stream",
     "text": [
      "ERROR: Could not find a version that satisfies the requirement sqllite (from versions: none)\n",
      "ERROR: No matching distribution found for sqllite\n"
     ]
    }
   ],
   "source": [
    "! pip install -r ../requirements.txt"
   ]
  },
  {
   "cell_type": "code",
   "execution_count": null,
   "metadata": {},
   "outputs": [],
   "source": []
  }
 ],
 "metadata": {
  "kernelspec": {
   "display_name": ".venv",
   "language": "python",
   "name": "python3"
  },
  "language_info": {
   "codemirror_mode": {
    "name": "ipython",
    "version": 3
   },
   "file_extension": ".py",
   "mimetype": "text/x-python",
   "name": "python",
   "nbconvert_exporter": "python",
   "pygments_lexer": "ipython3",
   "version": "3.11.6"
  }
 },
 "nbformat": 4,
 "nbformat_minor": 2
}
